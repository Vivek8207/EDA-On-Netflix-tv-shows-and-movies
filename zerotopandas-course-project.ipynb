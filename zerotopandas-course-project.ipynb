{
 "cells": [
  {
   "cell_type": "markdown",
   "metadata": {},
   "source": [
    "# Netflix-Tv-Shows-and-Movies\n",
    "\n",
    "We have data about netflix-tv-shows-and-movie in csv files in which many column include like 'title', 'genres' ,'production_countries', 'imdb_score'etc and This dataset is obtained from Kaggle platform .I am trying to find some fruitful insights from it using various analyzing tools like NumPy, Pandas and visualizing tools like Seaborn and Matplotlib. These are very benfecial tools to analyze and visualize data which can be easily learned from the website (zerotopandas.com) with course name [Data Analysis with Python : Zero to Pandas]."
   ]
  },
  {
   "cell_type": "markdown",
   "metadata": {},
   "source": [
    "## Downloading the Dataset\n",
    "Firstly the link of dataset should be copied from \"kaggle\" website then after we have to install \"opendatasets\" python library.After installing opendatsets we have to import opendatasets as od and pass the copied link in  \"od.download\" .we can use \"os.listdir\" to check how many files are present in this directory.This steps are following below:\n"
   ]
  },
  {
   "cell_type": "code",
   "execution_count": 1,
   "metadata": {},
   "outputs": [],
   "source": [
    "!pip install jovian opendatasets --upgrade --quiet"
   ]
  },
  {
   "cell_type": "code",
   "execution_count": 2,
   "metadata": {},
   "outputs": [],
   "source": [
    "dataset_url = 'https://www.kaggle.com/datasets/victorsoeiro/netflix-tv-shows-and-movies' "
   ]
  },
  {
   "cell_type": "code",
   "execution_count": 3,
   "metadata": {},
   "outputs": [
    {
     "name": "stdout",
     "output_type": "stream",
     "text": [
      "Skipping, found downloaded files in \"./netflix-tv-shows-and-movies\" (use force=True to force download)\n"
     ]
    }
   ],
   "source": [
    "import opendatasets as od\n",
    "od.download(dataset_url)"
   ]
  },
  {
   "cell_type": "markdown",
   "metadata": {},
   "source": [
    "The dataset has been downloaded and extracted."
   ]
  },
  {
   "cell_type": "code",
   "execution_count": 4,
   "metadata": {},
   "outputs": [],
   "source": [
    "data_dir = './netflix-tv-shows-and-movies'"
   ]
  },
  {
   "cell_type": "code",
   "execution_count": 5,
   "metadata": {},
   "outputs": [
    {
     "data": {
      "text/plain": [
       "['credits.csv', 'titles.csv']"
      ]
     },
     "execution_count": 5,
     "metadata": {},
     "output_type": "execute_result"
    }
   ],
   "source": [
    "import os\n",
    "os.listdir(data_dir)"
   ]
  },
  {
   "cell_type": "code",
   "execution_count": 6,
   "metadata": {},
   "outputs": [],
   "source": [
    "project_name = \"zerotopandas-course-project-netflix-tv-shows-and-movies\"  "
   ]
  },
  {
   "cell_type": "code",
   "execution_count": 7,
   "metadata": {},
   "outputs": [],
   "source": [
    "!pip install jovian --upgrade -q"
   ]
  },
  {
   "cell_type": "code",
   "execution_count": 8,
   "metadata": {},
   "outputs": [],
   "source": [
    "import jovian"
   ]
  },
  {
   "cell_type": "code",
   "execution_count": 9,
   "metadata": {},
   "outputs": [
    {
     "data": {
      "application/javascript": [
       "window.require && require([\"base/js/namespace\"],function(Jupyter){Jupyter.notebook.save_checkpoint()})"
      ],
      "text/plain": [
       "<IPython.core.display.Javascript object>"
      ]
     },
     "metadata": {},
     "output_type": "display_data"
    },
    {
     "name": "stdout",
     "output_type": "stream",
     "text": [
      "[jovian] Updating notebook \"vivekkumarsingh20112001/zerotopandas-course-project-netflix-tv-shows-and-movies\" on https://jovian.ai\u001b[0m\n",
      "[jovian] Committed successfully! https://jovian.ai/vivekkumarsingh20112001/zerotopandas-course-project-netflix-tv-shows-and-movies\u001b[0m\n"
     ]
    },
    {
     "data": {
      "text/plain": [
       "'https://jovian.ai/vivekkumarsingh20112001/zerotopandas-course-project-netflix-tv-shows-and-movies'"
      ]
     },
     "execution_count": 9,
     "metadata": {},
     "output_type": "execute_result"
    }
   ],
   "source": [
    "jovian.commit(project=project_name)"
   ]
  },
  {
   "cell_type": "markdown",
   "metadata": {},
   "source": [
    "## Data Preparation and Cleaning\n",
    "\n",
    "After downloading the data,the next step is to read the data using pandas.The reading of data is very necessary because for analyzing the data , the data must be clean and null element should not  present if it is possible to replace null element with some value then we have to do that step.We have to also check the given data is correct or not if some changes may be occur then we have to do some changes to make data clean.For obtaining the good result from our analysis the data must be clean and correct.\n",
    "\n"
   ]
  },
  {
   "cell_type": "code",
   "execution_count": 10,
   "metadata": {},
   "outputs": [],
   "source": [
    "import pandas as pd"
   ]
  },
  {
   "cell_type": "code",
   "execution_count": 11,
   "metadata": {},
   "outputs": [
    {
     "data": {
      "text/html": [
       "<div>\n",
       "<style scoped>\n",
       "    .dataframe tbody tr th:only-of-type {\n",
       "        vertical-align: middle;\n",
       "    }\n",
       "\n",
       "    .dataframe tbody tr th {\n",
       "        vertical-align: top;\n",
       "    }\n",
       "\n",
       "    .dataframe thead th {\n",
       "        text-align: right;\n",
       "    }\n",
       "</style>\n",
       "<table border=\"1\" class=\"dataframe\">\n",
       "  <thead>\n",
       "    <tr style=\"text-align: right;\">\n",
       "      <th></th>\n",
       "      <th>id</th>\n",
       "      <th>title</th>\n",
       "      <th>type</th>\n",
       "      <th>description</th>\n",
       "      <th>release_year</th>\n",
       "      <th>age_certification</th>\n",
       "      <th>runtime</th>\n",
       "      <th>genres</th>\n",
       "      <th>production_countries</th>\n",
       "      <th>seasons</th>\n",
       "      <th>imdb_id</th>\n",
       "      <th>imdb_score</th>\n",
       "      <th>imdb_votes</th>\n",
       "      <th>tmdb_popularity</th>\n",
       "      <th>tmdb_score</th>\n",
       "    </tr>\n",
       "  </thead>\n",
       "  <tbody>\n",
       "    <tr>\n",
       "      <th>0</th>\n",
       "      <td>ts300399</td>\n",
       "      <td>Five Came Back: The Reference Films</td>\n",
       "      <td>SHOW</td>\n",
       "      <td>This collection includes 12 World War II-era p...</td>\n",
       "      <td>1945</td>\n",
       "      <td>TV-MA</td>\n",
       "      <td>51</td>\n",
       "      <td>['documentation']</td>\n",
       "      <td>['US']</td>\n",
       "      <td>1.0</td>\n",
       "      <td>NaN</td>\n",
       "      <td>NaN</td>\n",
       "      <td>NaN</td>\n",
       "      <td>0.600</td>\n",
       "      <td>NaN</td>\n",
       "    </tr>\n",
       "    <tr>\n",
       "      <th>1</th>\n",
       "      <td>tm84618</td>\n",
       "      <td>Taxi Driver</td>\n",
       "      <td>MOVIE</td>\n",
       "      <td>A mentally unstable Vietnam War veteran works ...</td>\n",
       "      <td>1976</td>\n",
       "      <td>R</td>\n",
       "      <td>114</td>\n",
       "      <td>['drama', 'crime']</td>\n",
       "      <td>['US']</td>\n",
       "      <td>NaN</td>\n",
       "      <td>tt0075314</td>\n",
       "      <td>8.2</td>\n",
       "      <td>808582.0</td>\n",
       "      <td>40.965</td>\n",
       "      <td>8.179</td>\n",
       "    </tr>\n",
       "    <tr>\n",
       "      <th>2</th>\n",
       "      <td>tm154986</td>\n",
       "      <td>Deliverance</td>\n",
       "      <td>MOVIE</td>\n",
       "      <td>Intent on seeing the Cahulawassee River before...</td>\n",
       "      <td>1972</td>\n",
       "      <td>R</td>\n",
       "      <td>109</td>\n",
       "      <td>['drama', 'action', 'thriller', 'european']</td>\n",
       "      <td>['US']</td>\n",
       "      <td>NaN</td>\n",
       "      <td>tt0068473</td>\n",
       "      <td>7.7</td>\n",
       "      <td>107673.0</td>\n",
       "      <td>10.010</td>\n",
       "      <td>7.300</td>\n",
       "    </tr>\n",
       "    <tr>\n",
       "      <th>3</th>\n",
       "      <td>tm127384</td>\n",
       "      <td>Monty Python and the Holy Grail</td>\n",
       "      <td>MOVIE</td>\n",
       "      <td>King Arthur, accompanied by his squire, recrui...</td>\n",
       "      <td>1975</td>\n",
       "      <td>PG</td>\n",
       "      <td>91</td>\n",
       "      <td>['fantasy', 'action', 'comedy']</td>\n",
       "      <td>['GB']</td>\n",
       "      <td>NaN</td>\n",
       "      <td>tt0071853</td>\n",
       "      <td>8.2</td>\n",
       "      <td>534486.0</td>\n",
       "      <td>15.461</td>\n",
       "      <td>7.811</td>\n",
       "    </tr>\n",
       "    <tr>\n",
       "      <th>4</th>\n",
       "      <td>tm120801</td>\n",
       "      <td>The Dirty Dozen</td>\n",
       "      <td>MOVIE</td>\n",
       "      <td>12 American military prisoners in World War II...</td>\n",
       "      <td>1967</td>\n",
       "      <td>NaN</td>\n",
       "      <td>150</td>\n",
       "      <td>['war', 'action']</td>\n",
       "      <td>['GB', 'US']</td>\n",
       "      <td>NaN</td>\n",
       "      <td>tt0061578</td>\n",
       "      <td>7.7</td>\n",
       "      <td>72662.0</td>\n",
       "      <td>20.398</td>\n",
       "      <td>7.600</td>\n",
       "    </tr>\n",
       "    <tr>\n",
       "      <th>...</th>\n",
       "      <td>...</td>\n",
       "      <td>...</td>\n",
       "      <td>...</td>\n",
       "      <td>...</td>\n",
       "      <td>...</td>\n",
       "      <td>...</td>\n",
       "      <td>...</td>\n",
       "      <td>...</td>\n",
       "      <td>...</td>\n",
       "      <td>...</td>\n",
       "      <td>...</td>\n",
       "      <td>...</td>\n",
       "      <td>...</td>\n",
       "      <td>...</td>\n",
       "      <td>...</td>\n",
       "    </tr>\n",
       "    <tr>\n",
       "      <th>5845</th>\n",
       "      <td>tm1014599</td>\n",
       "      <td>Fine Wine</td>\n",
       "      <td>MOVIE</td>\n",
       "      <td>A beautiful love story that can happen between...</td>\n",
       "      <td>2021</td>\n",
       "      <td>NaN</td>\n",
       "      <td>100</td>\n",
       "      <td>['romance', 'drama']</td>\n",
       "      <td>['NG']</td>\n",
       "      <td>NaN</td>\n",
       "      <td>tt13857480</td>\n",
       "      <td>6.8</td>\n",
       "      <td>45.0</td>\n",
       "      <td>1.466</td>\n",
       "      <td>NaN</td>\n",
       "    </tr>\n",
       "    <tr>\n",
       "      <th>5846</th>\n",
       "      <td>tm898842</td>\n",
       "      <td>C/O Kaadhal</td>\n",
       "      <td>MOVIE</td>\n",
       "      <td>A heart warming film that explores the concept...</td>\n",
       "      <td>2021</td>\n",
       "      <td>NaN</td>\n",
       "      <td>134</td>\n",
       "      <td>['drama']</td>\n",
       "      <td>[]</td>\n",
       "      <td>NaN</td>\n",
       "      <td>tt11803618</td>\n",
       "      <td>7.7</td>\n",
       "      <td>348.0</td>\n",
       "      <td>NaN</td>\n",
       "      <td>NaN</td>\n",
       "    </tr>\n",
       "    <tr>\n",
       "      <th>5847</th>\n",
       "      <td>tm1059008</td>\n",
       "      <td>Lokillo</td>\n",
       "      <td>MOVIE</td>\n",
       "      <td>A controversial TV host and comedian who has b...</td>\n",
       "      <td>2021</td>\n",
       "      <td>NaN</td>\n",
       "      <td>90</td>\n",
       "      <td>['comedy']</td>\n",
       "      <td>['CO']</td>\n",
       "      <td>NaN</td>\n",
       "      <td>tt14585902</td>\n",
       "      <td>3.8</td>\n",
       "      <td>68.0</td>\n",
       "      <td>26.005</td>\n",
       "      <td>6.300</td>\n",
       "    </tr>\n",
       "    <tr>\n",
       "      <th>5848</th>\n",
       "      <td>tm1035612</td>\n",
       "      <td>Dad Stop Embarrassing Me - The Afterparty</td>\n",
       "      <td>MOVIE</td>\n",
       "      <td>Jamie Foxx, David Alan Grier and more from the...</td>\n",
       "      <td>2021</td>\n",
       "      <td>PG-13</td>\n",
       "      <td>37</td>\n",
       "      <td>[]</td>\n",
       "      <td>['US']</td>\n",
       "      <td>NaN</td>\n",
       "      <td>NaN</td>\n",
       "      <td>NaN</td>\n",
       "      <td>NaN</td>\n",
       "      <td>1.296</td>\n",
       "      <td>10.000</td>\n",
       "    </tr>\n",
       "    <tr>\n",
       "      <th>5849</th>\n",
       "      <td>ts271048</td>\n",
       "      <td>Mighty Little Bheem: Kite Festival</td>\n",
       "      <td>SHOW</td>\n",
       "      <td>With winter behind them, Bheem and his townspe...</td>\n",
       "      <td>2021</td>\n",
       "      <td>NaN</td>\n",
       "      <td>7</td>\n",
       "      <td>['family', 'animation', 'comedy']</td>\n",
       "      <td>[]</td>\n",
       "      <td>1.0</td>\n",
       "      <td>tt13711094</td>\n",
       "      <td>7.8</td>\n",
       "      <td>18.0</td>\n",
       "      <td>2.289</td>\n",
       "      <td>10.000</td>\n",
       "    </tr>\n",
       "  </tbody>\n",
       "</table>\n",
       "<p>5850 rows × 15 columns</p>\n",
       "</div>"
      ],
      "text/plain": [
       "             id                                      title   type  \\\n",
       "0      ts300399        Five Came Back: The Reference Films   SHOW   \n",
       "1       tm84618                                Taxi Driver  MOVIE   \n",
       "2      tm154986                                Deliverance  MOVIE   \n",
       "3      tm127384            Monty Python and the Holy Grail  MOVIE   \n",
       "4      tm120801                            The Dirty Dozen  MOVIE   \n",
       "...         ...                                        ...    ...   \n",
       "5845  tm1014599                                  Fine Wine  MOVIE   \n",
       "5846   tm898842                                C/O Kaadhal  MOVIE   \n",
       "5847  tm1059008                                    Lokillo  MOVIE   \n",
       "5848  tm1035612  Dad Stop Embarrassing Me - The Afterparty  MOVIE   \n",
       "5849   ts271048         Mighty Little Bheem: Kite Festival   SHOW   \n",
       "\n",
       "                                            description  release_year  \\\n",
       "0     This collection includes 12 World War II-era p...          1945   \n",
       "1     A mentally unstable Vietnam War veteran works ...          1976   \n",
       "2     Intent on seeing the Cahulawassee River before...          1972   \n",
       "3     King Arthur, accompanied by his squire, recrui...          1975   \n",
       "4     12 American military prisoners in World War II...          1967   \n",
       "...                                                 ...           ...   \n",
       "5845  A beautiful love story that can happen between...          2021   \n",
       "5846  A heart warming film that explores the concept...          2021   \n",
       "5847  A controversial TV host and comedian who has b...          2021   \n",
       "5848  Jamie Foxx, David Alan Grier and more from the...          2021   \n",
       "5849  With winter behind them, Bheem and his townspe...          2021   \n",
       "\n",
       "     age_certification  runtime                                       genres  \\\n",
       "0                TV-MA       51                            ['documentation']   \n",
       "1                    R      114                           ['drama', 'crime']   \n",
       "2                    R      109  ['drama', 'action', 'thriller', 'european']   \n",
       "3                   PG       91              ['fantasy', 'action', 'comedy']   \n",
       "4                  NaN      150                            ['war', 'action']   \n",
       "...                ...      ...                                          ...   \n",
       "5845               NaN      100                         ['romance', 'drama']   \n",
       "5846               NaN      134                                    ['drama']   \n",
       "5847               NaN       90                                   ['comedy']   \n",
       "5848             PG-13       37                                           []   \n",
       "5849               NaN        7            ['family', 'animation', 'comedy']   \n",
       "\n",
       "     production_countries  seasons     imdb_id  imdb_score  imdb_votes  \\\n",
       "0                  ['US']      1.0         NaN         NaN         NaN   \n",
       "1                  ['US']      NaN   tt0075314         8.2    808582.0   \n",
       "2                  ['US']      NaN   tt0068473         7.7    107673.0   \n",
       "3                  ['GB']      NaN   tt0071853         8.2    534486.0   \n",
       "4            ['GB', 'US']      NaN   tt0061578         7.7     72662.0   \n",
       "...                   ...      ...         ...         ...         ...   \n",
       "5845               ['NG']      NaN  tt13857480         6.8        45.0   \n",
       "5846                   []      NaN  tt11803618         7.7       348.0   \n",
       "5847               ['CO']      NaN  tt14585902         3.8        68.0   \n",
       "5848               ['US']      NaN         NaN         NaN         NaN   \n",
       "5849                   []      1.0  tt13711094         7.8        18.0   \n",
       "\n",
       "      tmdb_popularity  tmdb_score  \n",
       "0               0.600         NaN  \n",
       "1              40.965       8.179  \n",
       "2              10.010       7.300  \n",
       "3              15.461       7.811  \n",
       "4              20.398       7.600  \n",
       "...               ...         ...  \n",
       "5845            1.466         NaN  \n",
       "5846              NaN         NaN  \n",
       "5847           26.005       6.300  \n",
       "5848            1.296      10.000  \n",
       "5849            2.289      10.000  \n",
       "\n",
       "[5850 rows x 15 columns]"
      ]
     },
     "execution_count": 11,
     "metadata": {},
     "output_type": "execute_result"
    }
   ],
   "source": [
    "df=pd.read_csv('./netflix-tv-shows-and-movies/titles.csv')\n",
    "df"
   ]
  },
  {
   "cell_type": "code",
   "execution_count": 12,
   "metadata": {
    "scrolled": true
   },
   "outputs": [
    {
     "data": {
      "text/plain": [
       "(5850, 15)"
      ]
     },
     "execution_count": 12,
     "metadata": {},
     "output_type": "execute_result"
    }
   ],
   "source": [
    "df.shape"
   ]
  },
  {
   "cell_type": "code",
   "execution_count": 13,
   "metadata": {
    "scrolled": true
   },
   "outputs": [
    {
     "data": {
      "text/plain": [
       "Index(['id', 'title', 'type', 'description', 'release_year',\n",
       "       'age_certification', 'runtime', 'genres', 'production_countries',\n",
       "       'seasons', 'imdb_id', 'imdb_score', 'imdb_votes', 'tmdb_popularity',\n",
       "       'tmdb_score'],\n",
       "      dtype='object')"
      ]
     },
     "execution_count": 13,
     "metadata": {},
     "output_type": "execute_result"
    }
   ],
   "source": [
    "df.columns"
   ]
  },
  {
   "cell_type": "code",
   "execution_count": 14,
   "metadata": {},
   "outputs": [],
   "source": [
    "df=df[['title','type','release_year','runtime','genres','production_countries','seasons','imdb_score','tmdb_popularity','tmdb_score']]"
   ]
  },
  {
   "cell_type": "code",
   "execution_count": 15,
   "metadata": {
    "scrolled": true
   },
   "outputs": [
    {
     "name": "stdout",
     "output_type": "stream",
     "text": [
      "<class 'pandas.core.frame.DataFrame'>\n",
      "RangeIndex: 5850 entries, 0 to 5849\n",
      "Data columns (total 10 columns):\n",
      " #   Column                Non-Null Count  Dtype  \n",
      "---  ------                --------------  -----  \n",
      " 0   title                 5849 non-null   object \n",
      " 1   type                  5850 non-null   object \n",
      " 2   release_year          5850 non-null   int64  \n",
      " 3   runtime               5850 non-null   int64  \n",
      " 4   genres                5850 non-null   object \n",
      " 5   production_countries  5850 non-null   object \n",
      " 6   seasons               2106 non-null   float64\n",
      " 7   imdb_score            5368 non-null   float64\n",
      " 8   tmdb_popularity       5759 non-null   float64\n",
      " 9   tmdb_score            5539 non-null   float64\n",
      "dtypes: float64(4), int64(2), object(4)\n",
      "memory usage: 457.2+ KB\n"
     ]
    }
   ],
   "source": [
    "df.info()"
   ]
  },
  {
   "cell_type": "code",
   "execution_count": 16,
   "metadata": {},
   "outputs": [
    {
     "data": {
      "text/html": [
       "<div>\n",
       "<style scoped>\n",
       "    .dataframe tbody tr th:only-of-type {\n",
       "        vertical-align: middle;\n",
       "    }\n",
       "\n",
       "    .dataframe tbody tr th {\n",
       "        vertical-align: top;\n",
       "    }\n",
       "\n",
       "    .dataframe thead th {\n",
       "        text-align: right;\n",
       "    }\n",
       "</style>\n",
       "<table border=\"1\" class=\"dataframe\">\n",
       "  <thead>\n",
       "    <tr style=\"text-align: right;\">\n",
       "      <th></th>\n",
       "      <th>release_year</th>\n",
       "      <th>runtime</th>\n",
       "      <th>seasons</th>\n",
       "      <th>imdb_score</th>\n",
       "      <th>tmdb_popularity</th>\n",
       "      <th>tmdb_score</th>\n",
       "    </tr>\n",
       "  </thead>\n",
       "  <tbody>\n",
       "    <tr>\n",
       "      <th>count</th>\n",
       "      <td>5850.000000</td>\n",
       "      <td>5850.000000</td>\n",
       "      <td>2106.000000</td>\n",
       "      <td>5368.000000</td>\n",
       "      <td>5759.000000</td>\n",
       "      <td>5539.000000</td>\n",
       "    </tr>\n",
       "    <tr>\n",
       "      <th>mean</th>\n",
       "      <td>2016.417094</td>\n",
       "      <td>76.888889</td>\n",
       "      <td>2.162868</td>\n",
       "      <td>6.510861</td>\n",
       "      <td>22.637925</td>\n",
       "      <td>6.829175</td>\n",
       "    </tr>\n",
       "    <tr>\n",
       "      <th>std</th>\n",
       "      <td>6.937726</td>\n",
       "      <td>39.002509</td>\n",
       "      <td>2.689041</td>\n",
       "      <td>1.163826</td>\n",
       "      <td>81.680263</td>\n",
       "      <td>1.170391</td>\n",
       "    </tr>\n",
       "    <tr>\n",
       "      <th>min</th>\n",
       "      <td>1945.000000</td>\n",
       "      <td>0.000000</td>\n",
       "      <td>1.000000</td>\n",
       "      <td>1.500000</td>\n",
       "      <td>0.009442</td>\n",
       "      <td>0.500000</td>\n",
       "    </tr>\n",
       "    <tr>\n",
       "      <th>25%</th>\n",
       "      <td>2016.000000</td>\n",
       "      <td>44.000000</td>\n",
       "      <td>1.000000</td>\n",
       "      <td>5.800000</td>\n",
       "      <td>2.728500</td>\n",
       "      <td>6.100000</td>\n",
       "    </tr>\n",
       "    <tr>\n",
       "      <th>50%</th>\n",
       "      <td>2018.000000</td>\n",
       "      <td>83.000000</td>\n",
       "      <td>1.000000</td>\n",
       "      <td>6.600000</td>\n",
       "      <td>6.821000</td>\n",
       "      <td>6.900000</td>\n",
       "    </tr>\n",
       "    <tr>\n",
       "      <th>75%</th>\n",
       "      <td>2020.000000</td>\n",
       "      <td>104.000000</td>\n",
       "      <td>2.000000</td>\n",
       "      <td>7.300000</td>\n",
       "      <td>16.590000</td>\n",
       "      <td>7.537500</td>\n",
       "    </tr>\n",
       "    <tr>\n",
       "      <th>max</th>\n",
       "      <td>2022.000000</td>\n",
       "      <td>240.000000</td>\n",
       "      <td>42.000000</td>\n",
       "      <td>9.600000</td>\n",
       "      <td>2274.044000</td>\n",
       "      <td>10.000000</td>\n",
       "    </tr>\n",
       "  </tbody>\n",
       "</table>\n",
       "</div>"
      ],
      "text/plain": [
       "       release_year      runtime      seasons   imdb_score  tmdb_popularity  \\\n",
       "count   5850.000000  5850.000000  2106.000000  5368.000000      5759.000000   \n",
       "mean    2016.417094    76.888889     2.162868     6.510861        22.637925   \n",
       "std        6.937726    39.002509     2.689041     1.163826        81.680263   \n",
       "min     1945.000000     0.000000     1.000000     1.500000         0.009442   \n",
       "25%     2016.000000    44.000000     1.000000     5.800000         2.728500   \n",
       "50%     2018.000000    83.000000     1.000000     6.600000         6.821000   \n",
       "75%     2020.000000   104.000000     2.000000     7.300000        16.590000   \n",
       "max     2022.000000   240.000000    42.000000     9.600000      2274.044000   \n",
       "\n",
       "        tmdb_score  \n",
       "count  5539.000000  \n",
       "mean      6.829175  \n",
       "std       1.170391  \n",
       "min       0.500000  \n",
       "25%       6.100000  \n",
       "50%       6.900000  \n",
       "75%       7.537500  \n",
       "max      10.000000  "
      ]
     },
     "execution_count": 16,
     "metadata": {},
     "output_type": "execute_result"
    }
   ],
   "source": [
    "df.describe()"
   ]
  },
  {
   "cell_type": "code",
   "execution_count": 17,
   "metadata": {
    "scrolled": true
   },
   "outputs": [
    {
     "data": {
      "text/plain": [
       "title                      1\n",
       "type                       0\n",
       "release_year               0\n",
       "runtime                    0\n",
       "genres                     0\n",
       "production_countries       0\n",
       "seasons                 3744\n",
       "imdb_score               482\n",
       "tmdb_popularity           91\n",
       "tmdb_score               311\n",
       "dtype: int64"
      ]
     },
     "execution_count": 17,
     "metadata": {},
     "output_type": "execute_result"
    }
   ],
   "source": [
    "df.isnull().sum()"
   ]
  },
  {
   "cell_type": "code",
   "execution_count": 18,
   "metadata": {
    "scrolled": true
   },
   "outputs": [],
   "source": [
    "df=df.dropna(axis=0)"
   ]
  },
  {
   "cell_type": "code",
   "execution_count": 19,
   "metadata": {},
   "outputs": [
    {
     "data": {
      "text/html": [
       "<div>\n",
       "<style scoped>\n",
       "    .dataframe tbody tr th:only-of-type {\n",
       "        vertical-align: middle;\n",
       "    }\n",
       "\n",
       "    .dataframe tbody tr th {\n",
       "        vertical-align: top;\n",
       "    }\n",
       "\n",
       "    .dataframe thead th {\n",
       "        text-align: right;\n",
       "    }\n",
       "</style>\n",
       "<table border=\"1\" class=\"dataframe\">\n",
       "  <thead>\n",
       "    <tr style=\"text-align: right;\">\n",
       "      <th></th>\n",
       "      <th>title</th>\n",
       "      <th>type</th>\n",
       "      <th>release_year</th>\n",
       "      <th>runtime</th>\n",
       "      <th>genres</th>\n",
       "      <th>production_countries</th>\n",
       "      <th>seasons</th>\n",
       "      <th>imdb_score</th>\n",
       "      <th>tmdb_popularity</th>\n",
       "      <th>tmdb_score</th>\n",
       "    </tr>\n",
       "  </thead>\n",
       "  <tbody>\n",
       "    <tr>\n",
       "      <th>5</th>\n",
       "      <td>False</td>\n",
       "      <td>False</td>\n",
       "      <td>False</td>\n",
       "      <td>False</td>\n",
       "      <td>False</td>\n",
       "      <td>False</td>\n",
       "      <td>False</td>\n",
       "      <td>False</td>\n",
       "      <td>False</td>\n",
       "      <td>False</td>\n",
       "    </tr>\n",
       "    <tr>\n",
       "      <th>26</th>\n",
       "      <td>False</td>\n",
       "      <td>False</td>\n",
       "      <td>False</td>\n",
       "      <td>False</td>\n",
       "      <td>False</td>\n",
       "      <td>False</td>\n",
       "      <td>False</td>\n",
       "      <td>False</td>\n",
       "      <td>False</td>\n",
       "      <td>False</td>\n",
       "    </tr>\n",
       "    <tr>\n",
       "      <th>35</th>\n",
       "      <td>False</td>\n",
       "      <td>False</td>\n",
       "      <td>False</td>\n",
       "      <td>False</td>\n",
       "      <td>False</td>\n",
       "      <td>False</td>\n",
       "      <td>False</td>\n",
       "      <td>False</td>\n",
       "      <td>False</td>\n",
       "      <td>False</td>\n",
       "    </tr>\n",
       "    <tr>\n",
       "      <th>44</th>\n",
       "      <td>False</td>\n",
       "      <td>False</td>\n",
       "      <td>False</td>\n",
       "      <td>False</td>\n",
       "      <td>False</td>\n",
       "      <td>False</td>\n",
       "      <td>False</td>\n",
       "      <td>False</td>\n",
       "      <td>False</td>\n",
       "      <td>False</td>\n",
       "    </tr>\n",
       "    <tr>\n",
       "      <th>45</th>\n",
       "      <td>False</td>\n",
       "      <td>False</td>\n",
       "      <td>False</td>\n",
       "      <td>False</td>\n",
       "      <td>False</td>\n",
       "      <td>False</td>\n",
       "      <td>False</td>\n",
       "      <td>False</td>\n",
       "      <td>False</td>\n",
       "      <td>False</td>\n",
       "    </tr>\n",
       "    <tr>\n",
       "      <th>...</th>\n",
       "      <td>...</td>\n",
       "      <td>...</td>\n",
       "      <td>...</td>\n",
       "      <td>...</td>\n",
       "      <td>...</td>\n",
       "      <td>...</td>\n",
       "      <td>...</td>\n",
       "      <td>...</td>\n",
       "      <td>...</td>\n",
       "      <td>...</td>\n",
       "    </tr>\n",
       "    <tr>\n",
       "      <th>5785</th>\n",
       "      <td>False</td>\n",
       "      <td>False</td>\n",
       "      <td>False</td>\n",
       "      <td>False</td>\n",
       "      <td>False</td>\n",
       "      <td>False</td>\n",
       "      <td>False</td>\n",
       "      <td>False</td>\n",
       "      <td>False</td>\n",
       "      <td>False</td>\n",
       "    </tr>\n",
       "    <tr>\n",
       "      <th>5801</th>\n",
       "      <td>False</td>\n",
       "      <td>False</td>\n",
       "      <td>False</td>\n",
       "      <td>False</td>\n",
       "      <td>False</td>\n",
       "      <td>False</td>\n",
       "      <td>False</td>\n",
       "      <td>False</td>\n",
       "      <td>False</td>\n",
       "      <td>False</td>\n",
       "    </tr>\n",
       "    <tr>\n",
       "      <th>5819</th>\n",
       "      <td>False</td>\n",
       "      <td>False</td>\n",
       "      <td>False</td>\n",
       "      <td>False</td>\n",
       "      <td>False</td>\n",
       "      <td>False</td>\n",
       "      <td>False</td>\n",
       "      <td>False</td>\n",
       "      <td>False</td>\n",
       "      <td>False</td>\n",
       "    </tr>\n",
       "    <tr>\n",
       "      <th>5831</th>\n",
       "      <td>False</td>\n",
       "      <td>False</td>\n",
       "      <td>False</td>\n",
       "      <td>False</td>\n",
       "      <td>False</td>\n",
       "      <td>False</td>\n",
       "      <td>False</td>\n",
       "      <td>False</td>\n",
       "      <td>False</td>\n",
       "      <td>False</td>\n",
       "    </tr>\n",
       "    <tr>\n",
       "      <th>5849</th>\n",
       "      <td>False</td>\n",
       "      <td>False</td>\n",
       "      <td>False</td>\n",
       "      <td>False</td>\n",
       "      <td>False</td>\n",
       "      <td>False</td>\n",
       "      <td>False</td>\n",
       "      <td>False</td>\n",
       "      <td>False</td>\n",
       "      <td>False</td>\n",
       "    </tr>\n",
       "  </tbody>\n",
       "</table>\n",
       "<p>1860 rows × 10 columns</p>\n",
       "</div>"
      ],
      "text/plain": [
       "      title   type  release_year  runtime  genres  production_countries  \\\n",
       "5     False  False         False    False   False                 False   \n",
       "26    False  False         False    False   False                 False   \n",
       "35    False  False         False    False   False                 False   \n",
       "44    False  False         False    False   False                 False   \n",
       "45    False  False         False    False   False                 False   \n",
       "...     ...    ...           ...      ...     ...                   ...   \n",
       "5785  False  False         False    False   False                 False   \n",
       "5801  False  False         False    False   False                 False   \n",
       "5819  False  False         False    False   False                 False   \n",
       "5831  False  False         False    False   False                 False   \n",
       "5849  False  False         False    False   False                 False   \n",
       "\n",
       "      seasons  imdb_score  tmdb_popularity  tmdb_score  \n",
       "5       False       False            False       False  \n",
       "26      False       False            False       False  \n",
       "35      False       False            False       False  \n",
       "44      False       False            False       False  \n",
       "45      False       False            False       False  \n",
       "...       ...         ...              ...         ...  \n",
       "5785    False       False            False       False  \n",
       "5801    False       False            False       False  \n",
       "5819    False       False            False       False  \n",
       "5831    False       False            False       False  \n",
       "5849    False       False            False       False  \n",
       "\n",
       "[1860 rows x 10 columns]"
      ]
     },
     "execution_count": 19,
     "metadata": {},
     "output_type": "execute_result"
    }
   ],
   "source": [
    "df.isnull()"
   ]
  },
  {
   "cell_type": "code",
   "execution_count": 20,
   "metadata": {
    "scrolled": true
   },
   "outputs": [
    {
     "data": {
      "text/plain": [
       "title                   0\n",
       "type                    0\n",
       "release_year            0\n",
       "runtime                 0\n",
       "genres                  0\n",
       "production_countries    0\n",
       "seasons                 0\n",
       "imdb_score              0\n",
       "tmdb_popularity         0\n",
       "tmdb_score              0\n",
       "dtype: int64"
      ]
     },
     "execution_count": 20,
     "metadata": {},
     "output_type": "execute_result"
    }
   ],
   "source": [
    "df.isnull().sum()"
   ]
  },
  {
   "cell_type": "code",
   "execution_count": 21,
   "metadata": {},
   "outputs": [],
   "source": [
    "import jovian"
   ]
  },
  {
   "cell_type": "code",
   "execution_count": 22,
   "metadata": {},
   "outputs": [
    {
     "data": {
      "application/javascript": [
       "window.require && require([\"base/js/namespace\"],function(Jupyter){Jupyter.notebook.save_checkpoint()})"
      ],
      "text/plain": [
       "<IPython.core.display.Javascript object>"
      ]
     },
     "metadata": {},
     "output_type": "display_data"
    },
    {
     "name": "stdout",
     "output_type": "stream",
     "text": [
      "[jovian] Updating notebook \"vivekkumarsingh20112001/zerotopandas-course-project-netflix-tv-shows-and-movies\" on https://jovian.ai\u001b[0m\n",
      "[jovian] Committed successfully! https://jovian.ai/vivekkumarsingh20112001/zerotopandas-course-project-netflix-tv-shows-and-movies\u001b[0m\n"
     ]
    },
    {
     "data": {
      "text/plain": [
       "'https://jovian.ai/vivekkumarsingh20112001/zerotopandas-course-project-netflix-tv-shows-and-movies'"
      ]
     },
     "execution_count": 22,
     "metadata": {},
     "output_type": "execute_result"
    }
   ],
   "source": [
    "jovian.commit()"
   ]
  },
  {
   "cell_type": "markdown",
   "metadata": {},
   "source": [
    "## Exploratory Analysis and Visualization\n",
    "\n",
    "After preparation and cleaning of data the next step is to analyze and visualize the data.Our main moto is to find some fruitful insights from the data which can be beneficial for our organisation.We have to focus on the given data and looking to obtain some pattern,trends which can be visualize by after plotting graph.Visualization gives us a clear idea of what the information means by giving it visual context through maps or graphs.\n",
    "\n"
   ]
  },
  {
   "cell_type": "code",
   "execution_count": 23,
   "metadata": {},
   "outputs": [],
   "source": [
    "import seaborn as sns\n",
    "import matplotlib\n",
    "import matplotlib.pyplot as plt\n",
    "%matplotlib inline\n",
    "\n",
    "sns.set_style('darkgrid')\n",
    "matplotlib.rcParams['font.size'] = 14\n",
    "matplotlib.rcParams['figure.figsize'] = (15, 5)\n",
    "matplotlib.rcParams['figure.facecolor'] = '#00000000'"
   ]
  },
  {
   "cell_type": "code",
   "execution_count": 24,
   "metadata": {
    "scrolled": false
   },
   "outputs": [
    {
     "data": {
      "text/html": [
       "<div>\n",
       "<style scoped>\n",
       "    .dataframe tbody tr th:only-of-type {\n",
       "        vertical-align: middle;\n",
       "    }\n",
       "\n",
       "    .dataframe tbody tr th {\n",
       "        vertical-align: top;\n",
       "    }\n",
       "\n",
       "    .dataframe thead th {\n",
       "        text-align: right;\n",
       "    }\n",
       "</style>\n",
       "<table border=\"1\" class=\"dataframe\">\n",
       "  <thead>\n",
       "    <tr style=\"text-align: right;\">\n",
       "      <th></th>\n",
       "      <th>title</th>\n",
       "      <th>type</th>\n",
       "      <th>release_year</th>\n",
       "      <th>runtime</th>\n",
       "      <th>genres</th>\n",
       "      <th>production_countries</th>\n",
       "      <th>seasons</th>\n",
       "      <th>imdb_score</th>\n",
       "      <th>tmdb_popularity</th>\n",
       "      <th>tmdb_score</th>\n",
       "    </tr>\n",
       "  </thead>\n",
       "  <tbody>\n",
       "    <tr>\n",
       "      <th>5</th>\n",
       "      <td>Monty Python's Flying Circus</td>\n",
       "      <td>SHOW</td>\n",
       "      <td>1969</td>\n",
       "      <td>30</td>\n",
       "      <td>['comedy', 'european']</td>\n",
       "      <td>['GB']</td>\n",
       "      <td>4.0</td>\n",
       "      <td>8.8</td>\n",
       "      <td>17.617</td>\n",
       "      <td>8.306</td>\n",
       "    </tr>\n",
       "    <tr>\n",
       "      <th>26</th>\n",
       "      <td>Monty Python's Fliegender Zirkus</td>\n",
       "      <td>SHOW</td>\n",
       "      <td>1972</td>\n",
       "      <td>43</td>\n",
       "      <td>['comedy']</td>\n",
       "      <td>[]</td>\n",
       "      <td>1.0</td>\n",
       "      <td>8.1</td>\n",
       "      <td>1.487</td>\n",
       "      <td>7.000</td>\n",
       "    </tr>\n",
       "    <tr>\n",
       "      <th>35</th>\n",
       "      <td>Seinfeld</td>\n",
       "      <td>SHOW</td>\n",
       "      <td>1989</td>\n",
       "      <td>24</td>\n",
       "      <td>['comedy']</td>\n",
       "      <td>['US']</td>\n",
       "      <td>9.0</td>\n",
       "      <td>8.9</td>\n",
       "      <td>130.213</td>\n",
       "      <td>8.301</td>\n",
       "    </tr>\n",
       "    <tr>\n",
       "      <th>44</th>\n",
       "      <td>Knight Rider</td>\n",
       "      <td>SHOW</td>\n",
       "      <td>1982</td>\n",
       "      <td>51</td>\n",
       "      <td>['scifi', 'action', 'crime', 'drama']</td>\n",
       "      <td>['US']</td>\n",
       "      <td>4.0</td>\n",
       "      <td>6.9</td>\n",
       "      <td>50.267</td>\n",
       "      <td>7.500</td>\n",
       "    </tr>\n",
       "    <tr>\n",
       "      <th>45</th>\n",
       "      <td>Thomas &amp; Friends</td>\n",
       "      <td>SHOW</td>\n",
       "      <td>1984</td>\n",
       "      <td>10</td>\n",
       "      <td>['animation', 'family', 'comedy', 'fantasy', '...</td>\n",
       "      <td>['GB']</td>\n",
       "      <td>24.0</td>\n",
       "      <td>6.5</td>\n",
       "      <td>42.196</td>\n",
       "      <td>6.500</td>\n",
       "    </tr>\n",
       "    <tr>\n",
       "      <th>...</th>\n",
       "      <td>...</td>\n",
       "      <td>...</td>\n",
       "      <td>...</td>\n",
       "      <td>...</td>\n",
       "      <td>...</td>\n",
       "      <td>...</td>\n",
       "      <td>...</td>\n",
       "      <td>...</td>\n",
       "      <td>...</td>\n",
       "      <td>...</td>\n",
       "    </tr>\n",
       "    <tr>\n",
       "      <th>5785</th>\n",
       "      <td>Only Jokes Allowed</td>\n",
       "      <td>SHOW</td>\n",
       "      <td>2022</td>\n",
       "      <td>16</td>\n",
       "      <td>['comedy']</td>\n",
       "      <td>['ZA']</td>\n",
       "      <td>1.0</td>\n",
       "      <td>4.9</td>\n",
       "      <td>1.629</td>\n",
       "      <td>10.000</td>\n",
       "    </tr>\n",
       "    <tr>\n",
       "      <th>5801</th>\n",
       "      <td>We Are: The Brooklyn Saints</td>\n",
       "      <td>SHOW</td>\n",
       "      <td>2021</td>\n",
       "      <td>47</td>\n",
       "      <td>['documentation', 'sport']</td>\n",
       "      <td>['US']</td>\n",
       "      <td>1.0</td>\n",
       "      <td>6.5</td>\n",
       "      <td>2.523</td>\n",
       "      <td>10.000</td>\n",
       "    </tr>\n",
       "    <tr>\n",
       "      <th>5819</th>\n",
       "      <td>Alma Matters: Inside the IIT Dream</td>\n",
       "      <td>SHOW</td>\n",
       "      <td>2021</td>\n",
       "      <td>49</td>\n",
       "      <td>['documentation', 'drama']</td>\n",
       "      <td>['IN']</td>\n",
       "      <td>1.0</td>\n",
       "      <td>8.3</td>\n",
       "      <td>1.493</td>\n",
       "      <td>9.000</td>\n",
       "    </tr>\n",
       "    <tr>\n",
       "      <th>5831</th>\n",
       "      <td>Pitta Kathalu</td>\n",
       "      <td>SHOW</td>\n",
       "      <td>2021</td>\n",
       "      <td>37</td>\n",
       "      <td>['drama', 'romance']</td>\n",
       "      <td>['IN']</td>\n",
       "      <td>1.0</td>\n",
       "      <td>5.1</td>\n",
       "      <td>1.400</td>\n",
       "      <td>5.500</td>\n",
       "    </tr>\n",
       "    <tr>\n",
       "      <th>5849</th>\n",
       "      <td>Mighty Little Bheem: Kite Festival</td>\n",
       "      <td>SHOW</td>\n",
       "      <td>2021</td>\n",
       "      <td>7</td>\n",
       "      <td>['family', 'animation', 'comedy']</td>\n",
       "      <td>[]</td>\n",
       "      <td>1.0</td>\n",
       "      <td>7.8</td>\n",
       "      <td>2.289</td>\n",
       "      <td>10.000</td>\n",
       "    </tr>\n",
       "  </tbody>\n",
       "</table>\n",
       "<p>1860 rows × 10 columns</p>\n",
       "</div>"
      ],
      "text/plain": [
       "                                   title  type  release_year  runtime  \\\n",
       "5           Monty Python's Flying Circus  SHOW          1969       30   \n",
       "26      Monty Python's Fliegender Zirkus  SHOW          1972       43   \n",
       "35                              Seinfeld  SHOW          1989       24   \n",
       "44                          Knight Rider  SHOW          1982       51   \n",
       "45                      Thomas & Friends  SHOW          1984       10   \n",
       "...                                  ...   ...           ...      ...   \n",
       "5785                  Only Jokes Allowed  SHOW          2022       16   \n",
       "5801         We Are: The Brooklyn Saints  SHOW          2021       47   \n",
       "5819  Alma Matters: Inside the IIT Dream  SHOW          2021       49   \n",
       "5831                       Pitta Kathalu  SHOW          2021       37   \n",
       "5849  Mighty Little Bheem: Kite Festival  SHOW          2021        7   \n",
       "\n",
       "                                                 genres production_countries  \\\n",
       "5                                ['comedy', 'european']               ['GB']   \n",
       "26                                           ['comedy']                   []   \n",
       "35                                           ['comedy']               ['US']   \n",
       "44                ['scifi', 'action', 'crime', 'drama']               ['US']   \n",
       "45    ['animation', 'family', 'comedy', 'fantasy', '...               ['GB']   \n",
       "...                                                 ...                  ...   \n",
       "5785                                         ['comedy']               ['ZA']   \n",
       "5801                         ['documentation', 'sport']               ['US']   \n",
       "5819                         ['documentation', 'drama']               ['IN']   \n",
       "5831                               ['drama', 'romance']               ['IN']   \n",
       "5849                  ['family', 'animation', 'comedy']                   []   \n",
       "\n",
       "      seasons  imdb_score  tmdb_popularity  tmdb_score  \n",
       "5         4.0         8.8           17.617       8.306  \n",
       "26        1.0         8.1            1.487       7.000  \n",
       "35        9.0         8.9          130.213       8.301  \n",
       "44        4.0         6.9           50.267       7.500  \n",
       "45       24.0         6.5           42.196       6.500  \n",
       "...       ...         ...              ...         ...  \n",
       "5785      1.0         4.9            1.629      10.000  \n",
       "5801      1.0         6.5            2.523      10.000  \n",
       "5819      1.0         8.3            1.493       9.000  \n",
       "5831      1.0         5.1            1.400       5.500  \n",
       "5849      1.0         7.8            2.289      10.000  \n",
       "\n",
       "[1860 rows x 10 columns]"
      ]
     },
     "execution_count": 24,
     "metadata": {},
     "output_type": "execute_result"
    }
   ],
   "source": [
    "df"
   ]
  },
  {
   "cell_type": "code",
   "execution_count": 25,
   "metadata": {},
   "outputs": [
    {
     "data": {
      "text/html": [
       "<div>\n",
       "<style scoped>\n",
       "    .dataframe tbody tr th:only-of-type {\n",
       "        vertical-align: middle;\n",
       "    }\n",
       "\n",
       "    .dataframe tbody tr th {\n",
       "        vertical-align: top;\n",
       "    }\n",
       "\n",
       "    .dataframe thead th {\n",
       "        text-align: right;\n",
       "    }\n",
       "</style>\n",
       "<table border=\"1\" class=\"dataframe\">\n",
       "  <thead>\n",
       "    <tr style=\"text-align: right;\">\n",
       "      <th></th>\n",
       "      <th>type</th>\n",
       "      <th>release_year</th>\n",
       "      <th>runtime</th>\n",
       "      <th>genres</th>\n",
       "      <th>production_countries</th>\n",
       "      <th>seasons</th>\n",
       "      <th>imdb_score</th>\n",
       "      <th>tmdb_popularity</th>\n",
       "      <th>tmdb_score</th>\n",
       "    </tr>\n",
       "    <tr>\n",
       "      <th>title</th>\n",
       "      <th></th>\n",
       "      <th></th>\n",
       "      <th></th>\n",
       "      <th></th>\n",
       "      <th></th>\n",
       "      <th></th>\n",
       "      <th></th>\n",
       "      <th></th>\n",
       "      <th></th>\n",
       "    </tr>\n",
       "  </thead>\n",
       "  <tbody>\n",
       "    <tr>\n",
       "      <th>Monty Python's Flying Circus</th>\n",
       "      <td>SHOW</td>\n",
       "      <td>1969</td>\n",
       "      <td>30</td>\n",
       "      <td>['comedy', 'european']</td>\n",
       "      <td>['GB']</td>\n",
       "      <td>4.0</td>\n",
       "      <td>8.8</td>\n",
       "      <td>17.617</td>\n",
       "      <td>8.306</td>\n",
       "    </tr>\n",
       "    <tr>\n",
       "      <th>Monty Python's Fliegender Zirkus</th>\n",
       "      <td>SHOW</td>\n",
       "      <td>1972</td>\n",
       "      <td>43</td>\n",
       "      <td>['comedy']</td>\n",
       "      <td>[]</td>\n",
       "      <td>1.0</td>\n",
       "      <td>8.1</td>\n",
       "      <td>1.487</td>\n",
       "      <td>7.000</td>\n",
       "    </tr>\n",
       "    <tr>\n",
       "      <th>Seinfeld</th>\n",
       "      <td>SHOW</td>\n",
       "      <td>1989</td>\n",
       "      <td>24</td>\n",
       "      <td>['comedy']</td>\n",
       "      <td>['US']</td>\n",
       "      <td>9.0</td>\n",
       "      <td>8.9</td>\n",
       "      <td>130.213</td>\n",
       "      <td>8.301</td>\n",
       "    </tr>\n",
       "    <tr>\n",
       "      <th>Knight Rider</th>\n",
       "      <td>SHOW</td>\n",
       "      <td>1982</td>\n",
       "      <td>51</td>\n",
       "      <td>['scifi', 'action', 'crime', 'drama']</td>\n",
       "      <td>['US']</td>\n",
       "      <td>4.0</td>\n",
       "      <td>6.9</td>\n",
       "      <td>50.267</td>\n",
       "      <td>7.500</td>\n",
       "    </tr>\n",
       "    <tr>\n",
       "      <th>Thomas &amp; Friends</th>\n",
       "      <td>SHOW</td>\n",
       "      <td>1984</td>\n",
       "      <td>10</td>\n",
       "      <td>['animation', 'family', 'comedy', 'fantasy', '...</td>\n",
       "      <td>['GB']</td>\n",
       "      <td>24.0</td>\n",
       "      <td>6.5</td>\n",
       "      <td>42.196</td>\n",
       "      <td>6.500</td>\n",
       "    </tr>\n",
       "    <tr>\n",
       "      <th>...</th>\n",
       "      <td>...</td>\n",
       "      <td>...</td>\n",
       "      <td>...</td>\n",
       "      <td>...</td>\n",
       "      <td>...</td>\n",
       "      <td>...</td>\n",
       "      <td>...</td>\n",
       "      <td>...</td>\n",
       "      <td>...</td>\n",
       "    </tr>\n",
       "    <tr>\n",
       "      <th>Only Jokes Allowed</th>\n",
       "      <td>SHOW</td>\n",
       "      <td>2022</td>\n",
       "      <td>16</td>\n",
       "      <td>['comedy']</td>\n",
       "      <td>['ZA']</td>\n",
       "      <td>1.0</td>\n",
       "      <td>4.9</td>\n",
       "      <td>1.629</td>\n",
       "      <td>10.000</td>\n",
       "    </tr>\n",
       "    <tr>\n",
       "      <th>We Are: The Brooklyn Saints</th>\n",
       "      <td>SHOW</td>\n",
       "      <td>2021</td>\n",
       "      <td>47</td>\n",
       "      <td>['documentation', 'sport']</td>\n",
       "      <td>['US']</td>\n",
       "      <td>1.0</td>\n",
       "      <td>6.5</td>\n",
       "      <td>2.523</td>\n",
       "      <td>10.000</td>\n",
       "    </tr>\n",
       "    <tr>\n",
       "      <th>Alma Matters: Inside the IIT Dream</th>\n",
       "      <td>SHOW</td>\n",
       "      <td>2021</td>\n",
       "      <td>49</td>\n",
       "      <td>['documentation', 'drama']</td>\n",
       "      <td>['IN']</td>\n",
       "      <td>1.0</td>\n",
       "      <td>8.3</td>\n",
       "      <td>1.493</td>\n",
       "      <td>9.000</td>\n",
       "    </tr>\n",
       "    <tr>\n",
       "      <th>Pitta Kathalu</th>\n",
       "      <td>SHOW</td>\n",
       "      <td>2021</td>\n",
       "      <td>37</td>\n",
       "      <td>['drama', 'romance']</td>\n",
       "      <td>['IN']</td>\n",
       "      <td>1.0</td>\n",
       "      <td>5.1</td>\n",
       "      <td>1.400</td>\n",
       "      <td>5.500</td>\n",
       "    </tr>\n",
       "    <tr>\n",
       "      <th>Mighty Little Bheem: Kite Festival</th>\n",
       "      <td>SHOW</td>\n",
       "      <td>2021</td>\n",
       "      <td>7</td>\n",
       "      <td>['family', 'animation', 'comedy']</td>\n",
       "      <td>[]</td>\n",
       "      <td>1.0</td>\n",
       "      <td>7.8</td>\n",
       "      <td>2.289</td>\n",
       "      <td>10.000</td>\n",
       "    </tr>\n",
       "  </tbody>\n",
       "</table>\n",
       "<p>1860 rows × 9 columns</p>\n",
       "</div>"
      ],
      "text/plain": [
       "                                    type  release_year  runtime  \\\n",
       "title                                                             \n",
       "Monty Python's Flying Circus        SHOW          1969       30   \n",
       "Monty Python's Fliegender Zirkus    SHOW          1972       43   \n",
       "Seinfeld                            SHOW          1989       24   \n",
       "Knight Rider                        SHOW          1982       51   \n",
       "Thomas & Friends                    SHOW          1984       10   \n",
       "...                                  ...           ...      ...   \n",
       "Only Jokes Allowed                  SHOW          2022       16   \n",
       "We Are: The Brooklyn Saints         SHOW          2021       47   \n",
       "Alma Matters: Inside the IIT Dream  SHOW          2021       49   \n",
       "Pitta Kathalu                       SHOW          2021       37   \n",
       "Mighty Little Bheem: Kite Festival  SHOW          2021        7   \n",
       "\n",
       "                                                                               genres  \\\n",
       "title                                                                                   \n",
       "Monty Python's Flying Circus                                   ['comedy', 'european']   \n",
       "Monty Python's Fliegender Zirkus                                           ['comedy']   \n",
       "Seinfeld                                                                   ['comedy']   \n",
       "Knight Rider                                    ['scifi', 'action', 'crime', 'drama']   \n",
       "Thomas & Friends                    ['animation', 'family', 'comedy', 'fantasy', '...   \n",
       "...                                                                               ...   \n",
       "Only Jokes Allowed                                                         ['comedy']   \n",
       "We Are: The Brooklyn Saints                                ['documentation', 'sport']   \n",
       "Alma Matters: Inside the IIT Dream                         ['documentation', 'drama']   \n",
       "Pitta Kathalu                                                    ['drama', 'romance']   \n",
       "Mighty Little Bheem: Kite Festival                  ['family', 'animation', 'comedy']   \n",
       "\n",
       "                                   production_countries  seasons  imdb_score  \\\n",
       "title                                                                          \n",
       "Monty Python's Flying Circus                     ['GB']      4.0         8.8   \n",
       "Monty Python's Fliegender Zirkus                     []      1.0         8.1   \n",
       "Seinfeld                                         ['US']      9.0         8.9   \n",
       "Knight Rider                                     ['US']      4.0         6.9   \n",
       "Thomas & Friends                                 ['GB']     24.0         6.5   \n",
       "...                                                 ...      ...         ...   \n",
       "Only Jokes Allowed                               ['ZA']      1.0         4.9   \n",
       "We Are: The Brooklyn Saints                      ['US']      1.0         6.5   \n",
       "Alma Matters: Inside the IIT Dream               ['IN']      1.0         8.3   \n",
       "Pitta Kathalu                                    ['IN']      1.0         5.1   \n",
       "Mighty Little Bheem: Kite Festival                   []      1.0         7.8   \n",
       "\n",
       "                                    tmdb_popularity  tmdb_score  \n",
       "title                                                            \n",
       "Monty Python's Flying Circus                 17.617       8.306  \n",
       "Monty Python's Fliegender Zirkus              1.487       7.000  \n",
       "Seinfeld                                    130.213       8.301  \n",
       "Knight Rider                                 50.267       7.500  \n",
       "Thomas & Friends                             42.196       6.500  \n",
       "...                                             ...         ...  \n",
       "Only Jokes Allowed                            1.629      10.000  \n",
       "We Are: The Brooklyn Saints                   2.523      10.000  \n",
       "Alma Matters: Inside the IIT Dream            1.493       9.000  \n",
       "Pitta Kathalu                                 1.400       5.500  \n",
       "Mighty Little Bheem: Kite Festival            2.289      10.000  \n",
       "\n",
       "[1860 rows x 9 columns]"
      ]
     },
     "execution_count": 25,
     "metadata": {},
     "output_type": "execute_result"
    }
   ],
   "source": [
    "df=df.set_index('title')\n",
    "df"
   ]
  },
  {
   "cell_type": "code",
   "execution_count": 26,
   "metadata": {
    "scrolled": true
   },
   "outputs": [
    {
     "data": {
      "text/plain": [
       "title\n",
       "Breaking Bad                                  9.5\n",
       "Our Planet                                    9.3\n",
       "Avatar: The Last Airbender                    9.3\n",
       "Reply 1988                                    9.2\n",
       "Kota Factory                                  9.1\n",
       "My Mister                                     9.1\n",
       "The Last Dance                                9.1\n",
       "Leah Remini: Scientology and the Aftermath    9.0\n",
       "DEATH NOTE                                    9.0\n",
       "Okupas                                        9.0\n",
       "Name: imdb_score, dtype: float64"
      ]
     },
     "execution_count": 26,
     "metadata": {},
     "output_type": "execute_result"
    }
   ],
   "source": [
    "top_imdb_score_df=df.imdb_score.sort_values(ascending=False).head(10)\n",
    "top_imdb_score_df"
   ]
  },
  {
   "cell_type": "code",
   "execution_count": 27,
   "metadata": {
    "scrolled": true
   },
   "outputs": [
    {
     "data": {
      "image/png": "[encoded data removed]",
      "text/plain": [
       "<Figure size 1080x360 with 1 Axes>"
      ]
     },
     "metadata": {
      "needs_background": "light"
     },
     "output_type": "display_data"
    }
   ],
   "source": [
    "plt.title('Top movie A/C to imdb score')\n",
    "top_imdb_score_df.plot(kind='bar');"
   ]
  },
  {
   "cell_type": "markdown",
   "metadata": {},
   "source": [
    "From the above bar graph  we can visualize the top ten  rating movie on the basis of imdb score from 1945 to 2021.  "
   ]
  },
  {
   "cell_type": "code",
   "execution_count": 28,
   "metadata": {},
   "outputs": [
    {
     "data": {
      "text/plain": [
       "title\n",
       "Stranger Things                      2226.231\n",
       "Resident Evil                        1387.392\n",
       "Peaky Blinders                       1038.077\n",
       "Lucifer                               922.112\n",
       "Money Heist (Korean Remake)           904.326\n",
       "Grey's Anatomy                        803.786\n",
       "Money Heist: From Tokyo to Berlin     712.899\n",
       "Kung Fu Panda: The Dragon Knight      656.832\n",
       "The Walking Dead                      597.277\n",
       "The Flash                             537.156\n",
       "Name: tmdb_popularity, dtype: float64"
      ]
     },
     "execution_count": 28,
     "metadata": {},
     "output_type": "execute_result"
    }
   ],
   "source": [
    "tmdb_popular_movies_df=df.tmdb_popularity.sort_values(ascending=False).head(10)\n",
    "tmdb_popular_movies_df"
   ]
  },
  {
   "cell_type": "code",
   "execution_count": 29,
   "metadata": {
    "scrolled": false
   },
   "outputs": [
    {
     "data": {
      "image/png": "[encoded data removed]",
      "text/plain": [
       "<Figure size 1080x360 with 1 Axes>"
      ]
     },
     "metadata": {
      "needs_background": "light"
     },
     "output_type": "display_data"
    }
   ],
   "source": [
    "plt.title('Pouplar Movies A/C to tmdb')\n",
    "tmdb_popular_movies_df.plot(kind='bar');"
   ]
  },
  {
   "cell_type": "markdown",
   "metadata": {},
   "source": [
    "From the above graph we can visulalize the popularity of top ten  movie on the basis of tmdb score from the 1945 to 2021."
   ]
  },
  {
   "cell_type": "code",
   "execution_count": 30,
   "metadata": {
    "scrolled": false
   },
   "outputs": [
    {
     "data": {
      "text/plain": [
       "SHOW    1860\n",
       "Name: type, dtype: int64"
      ]
     },
     "execution_count": 30,
     "metadata": {},
     "output_type": "execute_result"
    }
   ],
   "source": [
    "type_df=df.type.value_counts()\n",
    "type_df"
   ]
  },
  {
   "cell_type": "code",
   "execution_count": 31,
   "metadata": {
    "scrolled": true
   },
   "outputs": [
    {
     "data": {
      "image/png": "[encoded data removed]",
      "text/plain": [
       "<Figure size 1080x360 with 1 Axes>"
      ]
     },
     "metadata": {
      "needs_background": "light"
     },
     "output_type": "display_data"
    }
   ],
   "source": [
    "plt.title('Show')\n",
    "type_df.plot(kind='bar');"
   ]
  },
  {
   "cell_type": "markdown",
   "metadata": {},
   "source": [
    "From the above bar graph we can  make comparison between the  number of show and  the number of movie release from the 1945 to 2021."
   ]
  },
  {
   "cell_type": "code",
   "execution_count": 32,
   "metadata": {},
   "outputs": [
    {
     "data": {
      "text/plain": [
       "['reality']                       97\n",
       "['comedy']                        86\n",
       "['documentation']                 84\n",
       "['drama']                         68\n",
       "['drama', 'romance']              47\n",
       "['comedy', 'drama']               44\n",
       "['drama', 'comedy']               36\n",
       "['documentation', 'crime']        34\n",
       "['crime', 'documentation']        24\n",
       "['crime', 'drama', 'thriller']    24\n",
       "Name: genres, dtype: int64"
      ]
     },
     "execution_count": 32,
     "metadata": {},
     "output_type": "execute_result"
    }
   ],
   "source": [
    "top_genre_df=df['genres'].value_counts().sort_values(ascending=False).head(10)\n",
    "top_genre_df"
   ]
  },
  {
   "cell_type": "code",
   "execution_count": 33,
   "metadata": {
    "scrolled": true
   },
   "outputs": [
    {
     "data": {
      "image/png": "[encoded data removed]",
      "text/plain": [
       "<Figure size 1080x360 with 1 Axes>"
      ]
     },
     "metadata": {
      "needs_background": "light"
     },
     "output_type": "display_data"
    }
   ],
   "source": [
    "plt.title('Top genre')\n",
    "top_genre_df.plot(kind='bar');"
   ]
  },
  {
   "cell_type": "markdown",
   "metadata": {},
   "source": [
    "From the above graph we can make comparison between the genre of the films means the number of movie which has same concept and  that release from the 1945 to 2021."
   ]
  },
  {
   "cell_type": "code",
   "execution_count": 34,
   "metadata": {},
   "outputs": [
    {
     "data": {
      "text/plain": [
       "2018    280\n",
       "2019    275\n",
       "2021    274\n",
       "2020    250\n",
       "2017    167\n",
       "2022    154\n",
       "2016    125\n",
       "2015     81\n",
       "2014     40\n",
       "2013     33\n",
       "2012     29\n",
       "2011     22\n",
       "2009     15\n",
       "2010     14\n",
       "2008     12\n",
       "2006     12\n",
       "2007     10\n",
       "2005      8\n",
       "2003      8\n",
       "2001      5\n",
       "2000      5\n",
       "2002      5\n",
       "1998      5\n",
       "2004      5\n",
       "1994      4\n",
       "1999      3\n",
       "1989      3\n",
       "1993      2\n",
       "1995      2\n",
       "1997      2\n",
       "1996      2\n",
       "1992      1\n",
       "1972      1\n",
       "1987      1\n",
       "1981      1\n",
       "1983      1\n",
       "1984      1\n",
       "1982      1\n",
       "1969      1\n",
       "Name: release_year, dtype: int64"
      ]
     },
     "execution_count": 34,
     "metadata": {},
     "output_type": "execute_result"
    }
   ],
   "source": [
    "movie_per_year_df=df.release_year.value_counts()\n",
    "movie_per_year_df"
   ]
  },
  {
   "cell_type": "code",
   "execution_count": 35,
   "metadata": {
    "scrolled": false
   },
   "outputs": [
    {
     "data": {
      "image/png": "[encoded data removed]",
      "text/plain": [
       "<Figure size 1080x360 with 1 Axes>"
      ]
     },
     "metadata": {
      "needs_background": "light"
     },
     "output_type": "display_data"
    }
   ],
   "source": [
    "movie_per_year_df.plot(kind='bar');"
   ]
  },
  {
   "cell_type": "markdown",
   "metadata": {},
   "source": [
    "From the above graph we can analyze that how many number of movies has released every year andand we can conclude that the number of movies increases year by year from 1945 to 2021."
   ]
  },
  {
   "cell_type": "code",
   "execution_count": 36,
   "metadata": {},
   "outputs": [],
   "source": [
    "import jovian"
   ]
  },
  {
   "cell_type": "code",
   "execution_count": 37,
   "metadata": {},
   "outputs": [
    {
     "data": {
      "application/javascript": [
       "window.require && require([\"base/js/namespace\"],function(Jupyter){Jupyter.notebook.save_checkpoint()})"
      ],
      "text/plain": [
       "<IPython.core.display.Javascript object>"
      ]
     },
     "metadata": {},
     "output_type": "display_data"
    },
    {
     "name": "stdout",
     "output_type": "stream",
     "text": [
      "[jovian] Updating notebook \"vivekkumarsingh20112001/zerotopandas-course-project-netflix-tv-shows-and-movies\" on https://jovian.ai\u001b[0m\n",
      "[jovian] Committed successfully! https://jovian.ai/vivekkumarsingh20112001/zerotopandas-course-project-netflix-tv-shows-and-movies\u001b[0m\n"
     ]
    },
    {
     "data": {
      "text/plain": [
       "'https://jovian.ai/vivekkumarsingh20112001/zerotopandas-course-project-netflix-tv-shows-and-movies'"
      ]
     },
     "execution_count": 37,
     "metadata": {},
     "output_type": "execute_result"
    }
   ],
   "source": [
    "jovian.commit()"
   ]
  },
  {
   "cell_type": "markdown",
   "metadata": {},
   "source": [
    "## Asking and Answering Questions\n",
    "\n",
    "Here asking and answering  question is a best part because here we try  to find someting new which can not seen simply.We have to add some new column in dataset after adding two column to find something new.The answer of the question can give new ideas and solution to our specific problem.\n",
    "\n"
   ]
  },
  {
   "cell_type": "markdown",
   "metadata": {},
   "source": [
    "#### Q1:Create a dataframe and find  the highest imdb score of a particular movie and also find all details about that movie?"
   ]
  },
  {
   "cell_type": "code",
   "execution_count": 38,
   "metadata": {
    "scrolled": true
   },
   "outputs": [
    {
     "data": {
      "text/html": [
       "<div>\n",
       "<style scoped>\n",
       "    .dataframe tbody tr th:only-of-type {\n",
       "        vertical-align: middle;\n",
       "    }\n",
       "\n",
       "    .dataframe tbody tr th {\n",
       "        vertical-align: top;\n",
       "    }\n",
       "\n",
       "    .dataframe thead th {\n",
       "        text-align: right;\n",
       "    }\n",
       "</style>\n",
       "<table border=\"1\" class=\"dataframe\">\n",
       "  <thead>\n",
       "    <tr style=\"text-align: right;\">\n",
       "      <th></th>\n",
       "      <th>type</th>\n",
       "      <th>release_year</th>\n",
       "      <th>runtime</th>\n",
       "      <th>genres</th>\n",
       "      <th>production_countries</th>\n",
       "      <th>seasons</th>\n",
       "      <th>imdb_score</th>\n",
       "      <th>tmdb_popularity</th>\n",
       "      <th>tmdb_score</th>\n",
       "    </tr>\n",
       "    <tr>\n",
       "      <th>title</th>\n",
       "      <th></th>\n",
       "      <th></th>\n",
       "      <th></th>\n",
       "      <th></th>\n",
       "      <th></th>\n",
       "      <th></th>\n",
       "      <th></th>\n",
       "      <th></th>\n",
       "      <th></th>\n",
       "    </tr>\n",
       "  </thead>\n",
       "  <tbody>\n",
       "    <tr>\n",
       "      <th>Breaking Bad</th>\n",
       "      <td>SHOW</td>\n",
       "      <td>2008</td>\n",
       "      <td>48</td>\n",
       "      <td>['drama', 'crime', 'thriller']</td>\n",
       "      <td>['US']</td>\n",
       "      <td>5.0</td>\n",
       "      <td>9.5</td>\n",
       "      <td>353.848</td>\n",
       "      <td>8.790</td>\n",
       "    </tr>\n",
       "    <tr>\n",
       "      <th>Our Planet</th>\n",
       "      <td>SHOW</td>\n",
       "      <td>2019</td>\n",
       "      <td>50</td>\n",
       "      <td>['documentation']</td>\n",
       "      <td>['GB']</td>\n",
       "      <td>1.0</td>\n",
       "      <td>9.3</td>\n",
       "      <td>19.942</td>\n",
       "      <td>8.800</td>\n",
       "    </tr>\n",
       "    <tr>\n",
       "      <th>Avatar: The Last Airbender</th>\n",
       "      <td>SHOW</td>\n",
       "      <td>2005</td>\n",
       "      <td>24</td>\n",
       "      <td>['scifi', 'animation', 'action', 'family', 'fa...</td>\n",
       "      <td>['US']</td>\n",
       "      <td>3.0</td>\n",
       "      <td>9.3</td>\n",
       "      <td>56.915</td>\n",
       "      <td>8.700</td>\n",
       "    </tr>\n",
       "    <tr>\n",
       "      <th>Reply 1988</th>\n",
       "      <td>SHOW</td>\n",
       "      <td>2015</td>\n",
       "      <td>92</td>\n",
       "      <td>['comedy', 'drama', 'family', 'romance']</td>\n",
       "      <td>['KR']</td>\n",
       "      <td>1.0</td>\n",
       "      <td>9.2</td>\n",
       "      <td>18.370</td>\n",
       "      <td>8.700</td>\n",
       "    </tr>\n",
       "    <tr>\n",
       "      <th>Kota Factory</th>\n",
       "      <td>SHOW</td>\n",
       "      <td>2019</td>\n",
       "      <td>39</td>\n",
       "      <td>['drama', 'comedy']</td>\n",
       "      <td>['IN']</td>\n",
       "      <td>2.0</td>\n",
       "      <td>9.1</td>\n",
       "      <td>9.584</td>\n",
       "      <td>8.300</td>\n",
       "    </tr>\n",
       "    <tr>\n",
       "      <th>My Mister</th>\n",
       "      <td>SHOW</td>\n",
       "      <td>2018</td>\n",
       "      <td>70</td>\n",
       "      <td>['drama', 'family']</td>\n",
       "      <td>['KR']</td>\n",
       "      <td>1.0</td>\n",
       "      <td>9.1</td>\n",
       "      <td>13.025</td>\n",
       "      <td>8.900</td>\n",
       "    </tr>\n",
       "    <tr>\n",
       "      <th>The Last Dance</th>\n",
       "      <td>SHOW</td>\n",
       "      <td>2020</td>\n",
       "      <td>50</td>\n",
       "      <td>['documentation', 'history', 'sport']</td>\n",
       "      <td>['US']</td>\n",
       "      <td>1.0</td>\n",
       "      <td>9.1</td>\n",
       "      <td>27.702</td>\n",
       "      <td>8.200</td>\n",
       "    </tr>\n",
       "    <tr>\n",
       "      <th>Leah Remini: Scientology and the Aftermath</th>\n",
       "      <td>SHOW</td>\n",
       "      <td>2016</td>\n",
       "      <td>46</td>\n",
       "      <td>['documentation', 'history']</td>\n",
       "      <td>['US']</td>\n",
       "      <td>3.0</td>\n",
       "      <td>9.0</td>\n",
       "      <td>6.440</td>\n",
       "      <td>8.200</td>\n",
       "    </tr>\n",
       "    <tr>\n",
       "      <th>DEATH NOTE</th>\n",
       "      <td>SHOW</td>\n",
       "      <td>2006</td>\n",
       "      <td>24</td>\n",
       "      <td>['animation', 'thriller', 'scifi', 'drama', 'f...</td>\n",
       "      <td>['JP']</td>\n",
       "      <td>1.0</td>\n",
       "      <td>9.0</td>\n",
       "      <td>120.545</td>\n",
       "      <td>8.664</td>\n",
       "    </tr>\n",
       "    <tr>\n",
       "      <th>Okupas</th>\n",
       "      <td>SHOW</td>\n",
       "      <td>2000</td>\n",
       "      <td>40</td>\n",
       "      <td>['drama', 'crime']</td>\n",
       "      <td>['AR']</td>\n",
       "      <td>1.0</td>\n",
       "      <td>9.0</td>\n",
       "      <td>8.565</td>\n",
       "      <td>8.800</td>\n",
       "    </tr>\n",
       "  </tbody>\n",
       "</table>\n",
       "</div>"
      ],
      "text/plain": [
       "                                            type  release_year  runtime  \\\n",
       "title                                                                     \n",
       "Breaking Bad                                SHOW          2008       48   \n",
       "Our Planet                                  SHOW          2019       50   \n",
       "Avatar: The Last Airbender                  SHOW          2005       24   \n",
       "Reply 1988                                  SHOW          2015       92   \n",
       "Kota Factory                                SHOW          2019       39   \n",
       "My Mister                                   SHOW          2018       70   \n",
       "The Last Dance                              SHOW          2020       50   \n",
       "Leah Remini: Scientology and the Aftermath  SHOW          2016       46   \n",
       "DEATH NOTE                                  SHOW          2006       24   \n",
       "Okupas                                      SHOW          2000       40   \n",
       "\n",
       "                                                                                       genres  \\\n",
       "title                                                                                           \n",
       "Breaking Bad                                                   ['drama', 'crime', 'thriller']   \n",
       "Our Planet                                                                  ['documentation']   \n",
       "Avatar: The Last Airbender                  ['scifi', 'animation', 'action', 'family', 'fa...   \n",
       "Reply 1988                                           ['comedy', 'drama', 'family', 'romance']   \n",
       "Kota Factory                                                              ['drama', 'comedy']   \n",
       "My Mister                                                                 ['drama', 'family']   \n",
       "The Last Dance                                          ['documentation', 'history', 'sport']   \n",
       "Leah Remini: Scientology and the Aftermath                       ['documentation', 'history']   \n",
       "DEATH NOTE                                  ['animation', 'thriller', 'scifi', 'drama', 'f...   \n",
       "Okupas                                                                     ['drama', 'crime']   \n",
       "\n",
       "                                           production_countries  seasons  \\\n",
       "title                                                                      \n",
       "Breaking Bad                                             ['US']      5.0   \n",
       "Our Planet                                               ['GB']      1.0   \n",
       "Avatar: The Last Airbender                               ['US']      3.0   \n",
       "Reply 1988                                               ['KR']      1.0   \n",
       "Kota Factory                                             ['IN']      2.0   \n",
       "My Mister                                                ['KR']      1.0   \n",
       "The Last Dance                                           ['US']      1.0   \n",
       "Leah Remini: Scientology and the Aftermath               ['US']      3.0   \n",
       "DEATH NOTE                                               ['JP']      1.0   \n",
       "Okupas                                                   ['AR']      1.0   \n",
       "\n",
       "                                            imdb_score  tmdb_popularity  \\\n",
       "title                                                                     \n",
       "Breaking Bad                                       9.5          353.848   \n",
       "Our Planet                                         9.3           19.942   \n",
       "Avatar: The Last Airbender                         9.3           56.915   \n",
       "Reply 1988                                         9.2           18.370   \n",
       "Kota Factory                                       9.1            9.584   \n",
       "My Mister                                          9.1           13.025   \n",
       "The Last Dance                                     9.1           27.702   \n",
       "Leah Remini: Scientology and the Aftermath         9.0            6.440   \n",
       "DEATH NOTE                                         9.0          120.545   \n",
       "Okupas                                             9.0            8.565   \n",
       "\n",
       "                                            tmdb_score  \n",
       "title                                                   \n",
       "Breaking Bad                                     8.790  \n",
       "Our Planet                                       8.800  \n",
       "Avatar: The Last Airbender                       8.700  \n",
       "Reply 1988                                       8.700  \n",
       "Kota Factory                                     8.300  \n",
       "My Mister                                        8.900  \n",
       "The Last Dance                                   8.200  \n",
       "Leah Remini: Scientology and the Aftermath       8.200  \n",
       "DEATH NOTE                                       8.664  \n",
       "Okupas                                           8.800  "
      ]
     },
     "execution_count": 38,
     "metadata": {},
     "output_type": "execute_result"
    }
   ],
   "source": [
    "highest_imdb_score_df=df.sort_values('imdb_score',ascending=False).head(10)\n",
    "highest_imdb_score_df"
   ]
  },
  {
   "cell_type": "markdown",
   "metadata": {},
   "source": [
    "Ans.-This is the \"Show\" which has highest imdb  score 9.5  namely \"Breaking Bed\".The release year of this \"Show\" is 2008 and its genres is \"drama,crime,thriller\" and produced countries is US."
   ]
  },
  {
   "cell_type": "markdown",
   "metadata": {},
   "source": [
    "#### Q2:Find top 10 highest number of movie/show production country list from 1945 to 2021?"
   ]
  },
  {
   "cell_type": "code",
   "execution_count": 39,
   "metadata": {
    "scrolled": true
   },
   "outputs": [
    {
     "data": {
      "text/plain": [
       "['US']    726\n",
       "['JP']    151\n",
       "['KR']    146\n",
       "['GB']    118\n",
       "['ES']     63\n",
       "['FR']     51\n",
       "['CA']     42\n",
       "['CN']     39\n",
       "['MX']     39\n",
       "[]         37\n",
       "Name: production_countries, dtype: int64"
      ]
     },
     "execution_count": 39,
     "metadata": {},
     "output_type": "execute_result"
    }
   ],
   "source": [
    "top_countries_df=df.production_countries.value_counts().sort_values(ascending=False).head(10)\n",
    "top_countries_df"
   ]
  },
  {
   "cell_type": "markdown",
   "metadata": {},
   "source": [
    "Here United Sates produces most number of show and total number is 1950 and then after Japan which produces  151 show."
   ]
  },
  {
   "cell_type": "markdown",
   "metadata": {},
   "source": [
    "#### Q3: Create a  dataframe of top ten popular movies on the basis of tmdb score and find the name of most popular movies with its all details?"
   ]
  },
  {
   "cell_type": "code",
   "execution_count": 40,
   "metadata": {
    "scrolled": false
   },
   "outputs": [
    {
     "data": {
      "text/html": [
       "<div>\n",
       "<style scoped>\n",
       "    .dataframe tbody tr th:only-of-type {\n",
       "        vertical-align: middle;\n",
       "    }\n",
       "\n",
       "    .dataframe tbody tr th {\n",
       "        vertical-align: top;\n",
       "    }\n",
       "\n",
       "    .dataframe thead th {\n",
       "        text-align: right;\n",
       "    }\n",
       "</style>\n",
       "<table border=\"1\" class=\"dataframe\">\n",
       "  <thead>\n",
       "    <tr style=\"text-align: right;\">\n",
       "      <th></th>\n",
       "      <th>type</th>\n",
       "      <th>release_year</th>\n",
       "      <th>runtime</th>\n",
       "      <th>genres</th>\n",
       "      <th>production_countries</th>\n",
       "      <th>seasons</th>\n",
       "      <th>imdb_score</th>\n",
       "      <th>tmdb_popularity</th>\n",
       "      <th>tmdb_score</th>\n",
       "    </tr>\n",
       "    <tr>\n",
       "      <th>title</th>\n",
       "      <th></th>\n",
       "      <th></th>\n",
       "      <th></th>\n",
       "      <th></th>\n",
       "      <th></th>\n",
       "      <th></th>\n",
       "      <th></th>\n",
       "      <th></th>\n",
       "      <th></th>\n",
       "    </tr>\n",
       "  </thead>\n",
       "  <tbody>\n",
       "    <tr>\n",
       "      <th>Stranger Things</th>\n",
       "      <td>SHOW</td>\n",
       "      <td>2016</td>\n",
       "      <td>61</td>\n",
       "      <td>['scifi', 'thriller', 'drama', 'fantasy', 'hor...</td>\n",
       "      <td>['US']</td>\n",
       "      <td>5.0</td>\n",
       "      <td>8.7</td>\n",
       "      <td>2226.231</td>\n",
       "      <td>8.635</td>\n",
       "    </tr>\n",
       "    <tr>\n",
       "      <th>Resident Evil</th>\n",
       "      <td>SHOW</td>\n",
       "      <td>2022</td>\n",
       "      <td>51</td>\n",
       "      <td>['scifi', 'thriller', 'action', 'horror']</td>\n",
       "      <td>['US']</td>\n",
       "      <td>1.0</td>\n",
       "      <td>3.7</td>\n",
       "      <td>1387.392</td>\n",
       "      <td>5.956</td>\n",
       "    </tr>\n",
       "    <tr>\n",
       "      <th>Peaky Blinders</th>\n",
       "      <td>SHOW</td>\n",
       "      <td>2013</td>\n",
       "      <td>58</td>\n",
       "      <td>['crime', 'drama', 'european']</td>\n",
       "      <td>['GB']</td>\n",
       "      <td>6.0</td>\n",
       "      <td>8.8</td>\n",
       "      <td>1038.077</td>\n",
       "      <td>8.558</td>\n",
       "    </tr>\n",
       "    <tr>\n",
       "      <th>Lucifer</th>\n",
       "      <td>SHOW</td>\n",
       "      <td>2016</td>\n",
       "      <td>47</td>\n",
       "      <td>['scifi', 'crime', 'drama', 'fantasy']</td>\n",
       "      <td>['US']</td>\n",
       "      <td>6.0</td>\n",
       "      <td>8.1</td>\n",
       "      <td>922.112</td>\n",
       "      <td>8.523</td>\n",
       "    </tr>\n",
       "    <tr>\n",
       "      <th>Money Heist (Korean Remake)</th>\n",
       "      <td>SHOW</td>\n",
       "      <td>2022</td>\n",
       "      <td>70</td>\n",
       "      <td>['action', 'drama', 'thriller', 'crime']</td>\n",
       "      <td>['KR']</td>\n",
       "      <td>1.0</td>\n",
       "      <td>5.2</td>\n",
       "      <td>904.326</td>\n",
       "      <td>7.998</td>\n",
       "    </tr>\n",
       "    <tr>\n",
       "      <th>Grey's Anatomy</th>\n",
       "      <td>SHOW</td>\n",
       "      <td>2005</td>\n",
       "      <td>49</td>\n",
       "      <td>['drama', 'romance']</td>\n",
       "      <td>['US']</td>\n",
       "      <td>19.0</td>\n",
       "      <td>7.6</td>\n",
       "      <td>803.786</td>\n",
       "      <td>8.252</td>\n",
       "    </tr>\n",
       "    <tr>\n",
       "      <th>Money Heist: From Tokyo to Berlin</th>\n",
       "      <td>SHOW</td>\n",
       "      <td>2021</td>\n",
       "      <td>53</td>\n",
       "      <td>['documentation', 'crime', 'drama']</td>\n",
       "      <td>['ES']</td>\n",
       "      <td>2.0</td>\n",
       "      <td>7.7</td>\n",
       "      <td>712.899</td>\n",
       "      <td>7.391</td>\n",
       "    </tr>\n",
       "    <tr>\n",
       "      <th>Kung Fu Panda: The Dragon Knight</th>\n",
       "      <td>SHOW</td>\n",
       "      <td>2022</td>\n",
       "      <td>24</td>\n",
       "      <td>['action', 'animation', 'family', 'fantasy', '...</td>\n",
       "      <td>['US']</td>\n",
       "      <td>1.0</td>\n",
       "      <td>5.9</td>\n",
       "      <td>656.832</td>\n",
       "      <td>7.500</td>\n",
       "    </tr>\n",
       "    <tr>\n",
       "      <th>The Walking Dead</th>\n",
       "      <td>SHOW</td>\n",
       "      <td>2010</td>\n",
       "      <td>46</td>\n",
       "      <td>['action', 'drama', 'scifi', 'horror', 'thrill...</td>\n",
       "      <td>['US']</td>\n",
       "      <td>11.0</td>\n",
       "      <td>8.2</td>\n",
       "      <td>597.277</td>\n",
       "      <td>8.100</td>\n",
       "    </tr>\n",
       "    <tr>\n",
       "      <th>The Flash</th>\n",
       "      <td>SHOW</td>\n",
       "      <td>2014</td>\n",
       "      <td>42</td>\n",
       "      <td>['drama', 'scifi', 'family', 'animation', 'act...</td>\n",
       "      <td>['US']</td>\n",
       "      <td>8.0</td>\n",
       "      <td>7.6</td>\n",
       "      <td>537.156</td>\n",
       "      <td>7.800</td>\n",
       "    </tr>\n",
       "  </tbody>\n",
       "</table>\n",
       "</div>"
      ],
      "text/plain": [
       "                                   type  release_year  runtime  \\\n",
       "title                                                            \n",
       "Stranger Things                    SHOW          2016       61   \n",
       "Resident Evil                      SHOW          2022       51   \n",
       "Peaky Blinders                     SHOW          2013       58   \n",
       "Lucifer                            SHOW          2016       47   \n",
       "Money Heist (Korean Remake)        SHOW          2022       70   \n",
       "Grey's Anatomy                     SHOW          2005       49   \n",
       "Money Heist: From Tokyo to Berlin  SHOW          2021       53   \n",
       "Kung Fu Panda: The Dragon Knight   SHOW          2022       24   \n",
       "The Walking Dead                   SHOW          2010       46   \n",
       "The Flash                          SHOW          2014       42   \n",
       "\n",
       "                                                                              genres  \\\n",
       "title                                                                                  \n",
       "Stranger Things                    ['scifi', 'thriller', 'drama', 'fantasy', 'hor...   \n",
       "Resident Evil                              ['scifi', 'thriller', 'action', 'horror']   \n",
       "Peaky Blinders                                        ['crime', 'drama', 'european']   \n",
       "Lucifer                                       ['scifi', 'crime', 'drama', 'fantasy']   \n",
       "Money Heist (Korean Remake)                 ['action', 'drama', 'thriller', 'crime']   \n",
       "Grey's Anatomy                                                  ['drama', 'romance']   \n",
       "Money Heist: From Tokyo to Berlin                ['documentation', 'crime', 'drama']   \n",
       "Kung Fu Panda: The Dragon Knight   ['action', 'animation', 'family', 'fantasy', '...   \n",
       "The Walking Dead                   ['action', 'drama', 'scifi', 'horror', 'thrill...   \n",
       "The Flash                          ['drama', 'scifi', 'family', 'animation', 'act...   \n",
       "\n",
       "                                  production_countries  seasons  imdb_score  \\\n",
       "title                                                                         \n",
       "Stranger Things                                 ['US']      5.0         8.7   \n",
       "Resident Evil                                   ['US']      1.0         3.7   \n",
       "Peaky Blinders                                  ['GB']      6.0         8.8   \n",
       "Lucifer                                         ['US']      6.0         8.1   \n",
       "Money Heist (Korean Remake)                     ['KR']      1.0         5.2   \n",
       "Grey's Anatomy                                  ['US']     19.0         7.6   \n",
       "Money Heist: From Tokyo to Berlin               ['ES']      2.0         7.7   \n",
       "Kung Fu Panda: The Dragon Knight                ['US']      1.0         5.9   \n",
       "The Walking Dead                                ['US']     11.0         8.2   \n",
       "The Flash                                       ['US']      8.0         7.6   \n",
       "\n",
       "                                   tmdb_popularity  tmdb_score  \n",
       "title                                                           \n",
       "Stranger Things                           2226.231       8.635  \n",
       "Resident Evil                             1387.392       5.956  \n",
       "Peaky Blinders                            1038.077       8.558  \n",
       "Lucifer                                    922.112       8.523  \n",
       "Money Heist (Korean Remake)                904.326       7.998  \n",
       "Grey's Anatomy                             803.786       8.252  \n",
       "Money Heist: From Tokyo to Berlin          712.899       7.391  \n",
       "Kung Fu Panda: The Dragon Knight           656.832       7.500  \n",
       "The Walking Dead                           597.277       8.100  \n",
       "The Flash                                  537.156       7.800  "
      ]
     },
     "execution_count": 40,
     "metadata": {},
     "output_type": "execute_result"
    }
   ],
   "source": [
    "df.sort_values('tmdb_popularity',ascending=False).head(10)\n"
   ]
  },
  {
   "cell_type": "markdown",
   "metadata": {},
   "source": [
    "Here the name of most popular movies on the basis tmdb_popularity is Stranger Things, its genres is [scifi', 'thriller', 'drama', 'fantasy'],and its release year is 2016."
   ]
  },
  {
   "cell_type": "markdown",
   "metadata": {},
   "source": [
    "#### Q4 Create a dataframe  of top ten longest runtime of movie/show and find the movie/show name which has largest runtime and also all detail?"
   ]
  },
  {
   "cell_type": "code",
   "execution_count": 41,
   "metadata": {},
   "outputs": [
    {
     "data": {
      "text/html": [
       "<div>\n",
       "<style scoped>\n",
       "    .dataframe tbody tr th:only-of-type {\n",
       "        vertical-align: middle;\n",
       "    }\n",
       "\n",
       "    .dataframe tbody tr th {\n",
       "        vertical-align: top;\n",
       "    }\n",
       "\n",
       "    .dataframe thead th {\n",
       "        text-align: right;\n",
       "    }\n",
       "</style>\n",
       "<table border=\"1\" class=\"dataframe\">\n",
       "  <thead>\n",
       "    <tr style=\"text-align: right;\">\n",
       "      <th></th>\n",
       "      <th>type</th>\n",
       "      <th>release_year</th>\n",
       "      <th>runtime</th>\n",
       "      <th>genres</th>\n",
       "      <th>production_countries</th>\n",
       "      <th>seasons</th>\n",
       "      <th>imdb_score</th>\n",
       "      <th>tmdb_popularity</th>\n",
       "      <th>tmdb_score</th>\n",
       "    </tr>\n",
       "    <tr>\n",
       "      <th>title</th>\n",
       "      <th></th>\n",
       "      <th></th>\n",
       "      <th></th>\n",
       "      <th></th>\n",
       "      <th></th>\n",
       "      <th></th>\n",
       "      <th></th>\n",
       "      <th></th>\n",
       "      <th></th>\n",
       "    </tr>\n",
       "  </thead>\n",
       "  <tbody>\n",
       "    <tr>\n",
       "      <th>1994</th>\n",
       "      <td>SHOW</td>\n",
       "      <td>2019</td>\n",
       "      <td>178</td>\n",
       "      <td>['documentation', 'history']</td>\n",
       "      <td>['MX']</td>\n",
       "      <td>1.0</td>\n",
       "      <td>7.6</td>\n",
       "      <td>2.626</td>\n",
       "      <td>8.700</td>\n",
       "    </tr>\n",
       "    <tr>\n",
       "      <th>Dead Set</th>\n",
       "      <td>SHOW</td>\n",
       "      <td>2008</td>\n",
       "      <td>141</td>\n",
       "      <td>['scifi', 'reality', 'thriller', 'comedy', 'dr...</td>\n",
       "      <td>['GB']</td>\n",
       "      <td>1.0</td>\n",
       "      <td>7.6</td>\n",
       "      <td>9.680</td>\n",
       "      <td>7.300</td>\n",
       "    </tr>\n",
       "    <tr>\n",
       "      <th>Maya and the Three</th>\n",
       "      <td>SHOW</td>\n",
       "      <td>2021</td>\n",
       "      <td>131</td>\n",
       "      <td>['comedy', 'drama', 'family', 'fantasy', 'anim...</td>\n",
       "      <td>['MX']</td>\n",
       "      <td>1.0</td>\n",
       "      <td>8.1</td>\n",
       "      <td>51.341</td>\n",
       "      <td>7.800</td>\n",
       "    </tr>\n",
       "    <tr>\n",
       "      <th>The Yard</th>\n",
       "      <td>SHOW</td>\n",
       "      <td>2018</td>\n",
       "      <td>108</td>\n",
       "      <td>['drama', 'crime']</td>\n",
       "      <td>['TR']</td>\n",
       "      <td>3.0</td>\n",
       "      <td>7.1</td>\n",
       "      <td>21.505</td>\n",
       "      <td>7.500</td>\n",
       "    </tr>\n",
       "    <tr>\n",
       "      <th>Intersection</th>\n",
       "      <td>SHOW</td>\n",
       "      <td>2016</td>\n",
       "      <td>107</td>\n",
       "      <td>['drama']</td>\n",
       "      <td>['TR']</td>\n",
       "      <td>2.0</td>\n",
       "      <td>6.5</td>\n",
       "      <td>15.226</td>\n",
       "      <td>5.700</td>\n",
       "    </tr>\n",
       "    <tr>\n",
       "      <th>On Children</th>\n",
       "      <td>SHOW</td>\n",
       "      <td>2018</td>\n",
       "      <td>98</td>\n",
       "      <td>['drama', 'family', 'scifi']</td>\n",
       "      <td>['TW']</td>\n",
       "      <td>1.0</td>\n",
       "      <td>7.2</td>\n",
       "      <td>2.087</td>\n",
       "      <td>7.800</td>\n",
       "    </tr>\n",
       "    <tr>\n",
       "      <th>jeen-yuhs</th>\n",
       "      <td>SHOW</td>\n",
       "      <td>2022</td>\n",
       "      <td>93</td>\n",
       "      <td>['documentation', 'music']</td>\n",
       "      <td>['US']</td>\n",
       "      <td>1.0</td>\n",
       "      <td>8.0</td>\n",
       "      <td>3.852</td>\n",
       "      <td>7.100</td>\n",
       "    </tr>\n",
       "    <tr>\n",
       "      <th>Hospital Playlist</th>\n",
       "      <td>SHOW</td>\n",
       "      <td>2020</td>\n",
       "      <td>93</td>\n",
       "      <td>['drama', 'comedy']</td>\n",
       "      <td>['KR']</td>\n",
       "      <td>2.0</td>\n",
       "      <td>8.8</td>\n",
       "      <td>27.612</td>\n",
       "      <td>8.983</td>\n",
       "    </tr>\n",
       "    <tr>\n",
       "      <th>Gilmore Girls: A Year in the Life</th>\n",
       "      <td>SHOW</td>\n",
       "      <td>2016</td>\n",
       "      <td>92</td>\n",
       "      <td>['drama', 'comedy']</td>\n",
       "      <td>['US']</td>\n",
       "      <td>1.0</td>\n",
       "      <td>7.6</td>\n",
       "      <td>14.808</td>\n",
       "      <td>7.600</td>\n",
       "    </tr>\n",
       "    <tr>\n",
       "      <th>Reply 1988</th>\n",
       "      <td>SHOW</td>\n",
       "      <td>2015</td>\n",
       "      <td>92</td>\n",
       "      <td>['comedy', 'drama', 'family', 'romance']</td>\n",
       "      <td>['KR']</td>\n",
       "      <td>1.0</td>\n",
       "      <td>9.2</td>\n",
       "      <td>18.370</td>\n",
       "      <td>8.700</td>\n",
       "    </tr>\n",
       "  </tbody>\n",
       "</table>\n",
       "</div>"
      ],
      "text/plain": [
       "                                   type  release_year  runtime  \\\n",
       "title                                                            \n",
       "1994                               SHOW          2019      178   \n",
       "Dead Set                           SHOW          2008      141   \n",
       "Maya and the Three                 SHOW          2021      131   \n",
       "The Yard                           SHOW          2018      108   \n",
       "Intersection                       SHOW          2016      107   \n",
       "On Children                        SHOW          2018       98   \n",
       "jeen-yuhs                          SHOW          2022       93   \n",
       "Hospital Playlist                  SHOW          2020       93   \n",
       "Gilmore Girls: A Year in the Life  SHOW          2016       92   \n",
       "Reply 1988                         SHOW          2015       92   \n",
       "\n",
       "                                                                              genres  \\\n",
       "title                                                                                  \n",
       "1994                                                    ['documentation', 'history']   \n",
       "Dead Set                           ['scifi', 'reality', 'thriller', 'comedy', 'dr...   \n",
       "Maya and the Three                 ['comedy', 'drama', 'family', 'fantasy', 'anim...   \n",
       "The Yard                                                          ['drama', 'crime']   \n",
       "Intersection                                                               ['drama']   \n",
       "On Children                                             ['drama', 'family', 'scifi']   \n",
       "jeen-yuhs                                                 ['documentation', 'music']   \n",
       "Hospital Playlist                                                ['drama', 'comedy']   \n",
       "Gilmore Girls: A Year in the Life                                ['drama', 'comedy']   \n",
       "Reply 1988                                  ['comedy', 'drama', 'family', 'romance']   \n",
       "\n",
       "                                  production_countries  seasons  imdb_score  \\\n",
       "title                                                                         \n",
       "1994                                            ['MX']      1.0         7.6   \n",
       "Dead Set                                        ['GB']      1.0         7.6   \n",
       "Maya and the Three                              ['MX']      1.0         8.1   \n",
       "The Yard                                        ['TR']      3.0         7.1   \n",
       "Intersection                                    ['TR']      2.0         6.5   \n",
       "On Children                                     ['TW']      1.0         7.2   \n",
       "jeen-yuhs                                       ['US']      1.0         8.0   \n",
       "Hospital Playlist                               ['KR']      2.0         8.8   \n",
       "Gilmore Girls: A Year in the Life               ['US']      1.0         7.6   \n",
       "Reply 1988                                      ['KR']      1.0         9.2   \n",
       "\n",
       "                                   tmdb_popularity  tmdb_score  \n",
       "title                                                           \n",
       "1994                                         2.626       8.700  \n",
       "Dead Set                                     9.680       7.300  \n",
       "Maya and the Three                          51.341       7.800  \n",
       "The Yard                                    21.505       7.500  \n",
       "Intersection                                15.226       5.700  \n",
       "On Children                                  2.087       7.800  \n",
       "jeen-yuhs                                    3.852       7.100  \n",
       "Hospital Playlist                           27.612       8.983  \n",
       "Gilmore Girls: A Year in the Life           14.808       7.600  \n",
       "Reply 1988                                  18.370       8.700  "
      ]
     },
     "execution_count": 41,
     "metadata": {},
     "output_type": "execute_result"
    }
   ],
   "source": [
    "df.sort_values('runtime',ascending=False).head(10)"
   ]
  },
  {
   "cell_type": "markdown",
   "metadata": {},
   "source": [
    "Here the movie which has longest runtime is \"1994\" and realease year of this movie is 2019 and tmdb_score is 8.700 ."
   ]
  },
  {
   "cell_type": "code",
   "execution_count": 42,
   "metadata": {},
   "outputs": [],
   "source": [
    "import jovian"
   ]
  },
  {
   "cell_type": "code",
   "execution_count": 43,
   "metadata": {},
   "outputs": [
    {
     "data": {
      "application/javascript": [
       "window.require && require([\"base/js/namespace\"],function(Jupyter){Jupyter.notebook.save_checkpoint()})"
      ],
      "text/plain": [
       "<IPython.core.display.Javascript object>"
      ]
     },
     "metadata": {},
     "output_type": "display_data"
    },
    {
     "name": "stdout",
     "output_type": "stream",
     "text": [
      "[jovian] Updating notebook \"vivekkumarsingh20112001/zerotopandas-course-project-netflix-tv-shows-and-movies\" on https://jovian.ai\u001b[0m\n",
      "[jovian] Committed successfully! https://jovian.ai/vivekkumarsingh20112001/zerotopandas-course-project-netflix-tv-shows-and-movies\u001b[0m\n"
     ]
    },
    {
     "data": {
      "text/plain": [
       "'https://jovian.ai/vivekkumarsingh20112001/zerotopandas-course-project-netflix-tv-shows-and-movies'"
      ]
     },
     "execution_count": 43,
     "metadata": {},
     "output_type": "execute_result"
    }
   ],
   "source": [
    "jovian.commit()"
   ]
  },
  {
   "cell_type": "markdown",
   "metadata": {},
   "source": [
    "## Inferences and Conclusion\n",
    "\n",
    "After analyzing and visualizing the data we found that over the release period of time, the most number of Show is produced by United States.If we talking about the genres of show the most number of genres produced is \"Reality\".The number of movies produced per year increased yearly from 1945 to 2021\n",
    "\n",
    "We can also say that the demand of movie which is produced by US is more in worldwide. "
   ]
  },
  {
   "cell_type": "code",
   "execution_count": 44,
   "metadata": {},
   "outputs": [],
   "source": [
    "import jovian"
   ]
  },
  {
   "cell_type": "code",
   "execution_count": 45,
   "metadata": {},
   "outputs": [
    {
     "data": {
      "application/javascript": [
       "window.require && require([\"base/js/namespace\"],function(Jupyter){Jupyter.notebook.save_checkpoint()})"
      ],
      "text/plain": [
       "<IPython.core.display.Javascript object>"
      ]
     },
     "metadata": {},
     "output_type": "display_data"
    },
    {
     "name": "stdout",
     "output_type": "stream",
     "text": [
      "[jovian] Updating notebook \"vivekkumarsingh20112001/zerotopandas-course-project-netflix-tv-shows-and-movies\" on https://jovian.ai\u001b[0m\n",
      "[jovian] Committed successfully! https://jovian.ai/vivekkumarsingh20112001/zerotopandas-course-project-netflix-tv-shows-and-movies\u001b[0m\n"
     ]
    },
    {
     "data": {
      "text/plain": [
       "'https://jovian.ai/vivekkumarsingh20112001/zerotopandas-course-project-netflix-tv-shows-and-movies'"
      ]
     },
     "execution_count": 45,
     "metadata": {},
     "output_type": "execute_result"
    }
   ],
   "source": [
    "jovian.commit()"
   ]
  },
  {
   "cell_type": "markdown",
   "metadata": {},
   "source": [
    "## References and Future Work\n",
    "\n",
    "In future we are trying to find some more useful insights from this dataset which may be left or missing from our views.As a beginner  I am always trying to learn new thing or skills which can be benefited to our organization."
   ]
  },
  {
   "cell_type": "code",
   "execution_count": 46,
   "metadata": {},
   "outputs": [],
   "source": [
    "import jovian"
   ]
  },
  {
   "cell_type": "code",
   "execution_count": null,
   "metadata": {
    "scrolled": true
   },
   "outputs": [
    {
     "data": {
      "application/javascript": [
       "window.require && require([\"base/js/namespace\"],function(Jupyter){Jupyter.notebook.save_checkpoint()})"
      ],
      "text/plain": [
       "<IPython.core.display.Javascript object>"
      ]
     },
     "metadata": {},
     "output_type": "display_data"
    }
   ],
   "source": [
    "jovian.commit()"
   ]
  },
  {
   "cell_type": "code",
   "execution_count": null,
   "metadata": {},
   "outputs": [],
   "source": []
  }
 ],
 "metadata": {
  "language_info": {
   "codemirror_mode": {
    "name": "ipython",
    "version": 3
   },
   "file_extension": ".py",
   "mimetype": "text/x-python",
   "name": "python",
   "nbconvert_exporter": "python",
   "pygments_lexer": "ipython3",
   "version": "3.9.6"
  }
 },
 "nbformat": 4,
 "nbformat_minor": 4
}